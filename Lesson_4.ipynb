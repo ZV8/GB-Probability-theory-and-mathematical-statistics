{
  "nbformat": 4,
  "nbformat_minor": 0,
  "metadata": {
    "colab": {
      "name": "Lesson_4.ipynb",
      "provenance": []
    },
    "kernelspec": {
      "name": "python3",
      "display_name": "Python 3"
    },
    "language_info": {
      "name": "python"
    }
  },
  "cells": [
    {
      "cell_type": "markdown",
      "metadata": {
        "id": "duoIIi5HIoQD"
      },
      "source": [
        "### Урок 4. Непрерывные случайные величины. Функция распределения и плотность распределения вероятностей. Равномерное и нормальное распределение. Центральная предельная теорема\n"
      ]
    },
    {
      "cell_type": "markdown",
      "metadata": {
        "id": "0EEJsIoX2dq6"
      },
      "source": [
        "#### 1. Случайная непрерывная величина A имеет равномерное распределение на промежутке (200, 800]. Найдите ее среднее значение и дисперсию."
      ]
    },
    {
      "cell_type": "code",
      "metadata": {
        "colab": {
          "base_uri": "https://localhost:8080/"
        },
        "id": "sjh_xHtpvJgM",
        "outputId": "51282aec-74da-4cf8-e9fb-e4c6b7a931ac"
      },
      "source": [
        "a = 200\n",
        "b = 800\n",
        "\n",
        "MX = (a + b) / 2\n",
        "DX = (b - a)**2 / 12\n",
        "\n",
        "print (f'Среднее знечение: {MX}')\n",
        "print (f'Дисперсия: {DX}')"
      ],
      "execution_count": 1,
      "outputs": [
        {
          "output_type": "stream",
          "text": [
            "Среднее знечение: 500.0\n",
            "Дисперсия: 30000.0\n"
          ],
          "name": "stdout"
        }
      ]
    },
    {
      "cell_type": "markdown",
      "metadata": {
        "id": "TwHAvmJvxZBT"
      },
      "source": [
        "#### 2. О случайной непрерывной равномерно распределенной величине B известно, что ее дисперсия равна 0.2. Можно ли найти правую границу величины B и ее среднее значение зная, что левая граница равна 0.5? Если да, найдите ее."
      ]
    },
    {
      "cell_type": "code",
      "metadata": {
        "colab": {
          "base_uri": "https://localhost:8080/"
        },
        "id": "Z7sOJiycvJpT",
        "outputId": "11bd8b9a-5c75-405f-ac9d-f174b735e9ca"
      },
      "source": [
        "a = 0.5\n",
        "DX = 0.2\n",
        "\n",
        "# DX = (b - a)**2 / 12\n",
        "# (b - 0.5)**2 / 12 = 0.2\n",
        "# b - 0.5 = (0.2 * 12)**0.5\n",
        "b = (0.2 * 12)**0.5 + 0.5\n",
        "\n",
        "MX = (a + b) / 2\n",
        "\n",
        "print (f'Правая граница величины: {round(b, 2)}')\n",
        "print (f'Среднее значение: {round(MX, 2)}')"
      ],
      "execution_count": 2,
      "outputs": [
        {
          "output_type": "stream",
          "text": [
            "Правая граница величины: 2.05\n",
            "Среднее значение: 1.27\n"
          ],
          "name": "stdout"
        }
      ]
    },
    {
      "cell_type": "markdown",
      "metadata": {
        "id": "zkzV6orR0ZgG"
      },
      "source": [
        "#### 3. Непрерывная случайная величина X распределена нормально и задана плотностью распределения\n",
        "f(x) = (1 / (4 * sqrt(2*pi))) * (exp(-((x+2)**2) / 32))\n",
        "#### Найдите: \n",
        "а) M(X)\n",
        "\n",
        "б) D(X)\n",
        "\n",
        "в) std(X) (среднее квадратичное отклонение)"
      ]
    },
    {
      "cell_type": "markdown",
      "metadata": {
        "id": "oK9wN1Xu2F_G"
      },
      "source": [
        "Нормальное распределение — это распределение вероятностей непрерывной случайной величины  𝑋 , плотность вероятности которой подчиняется формуле:\n",
        "$$f(x) = \\frac{1}{\\sigma \\sqrt{2 \\pi}} e ^ {- \\frac{(x - a)^2}{2 \\sigma^2}}$$\n",
        "\n",
        "где $a = M(X), \\; \\sigma^2 = D(X)$\n"
      ]
    },
    {
      "cell_type": "markdown",
      "metadata": {
        "id": "4v4aheCG6Tzs"
      },
      "source": [
        "Следовательно:\n",
        "\n",
        "$x - M(X) = x + 2$\n",
        "\n",
        "$- M(X) = 2$\n",
        "\n",
        "$M(X) = -2$"
      ]
    },
    {
      "cell_type": "markdown",
      "metadata": {
        "id": "z2Q8YBbR6VMi"
      },
      "source": [
        "$2 D(X) = 32$\n",
        "\n",
        "$D(X) = 32/2 = 16$\n",
        "\n",
        "$std(X) = \\sqrt{D(X)} = \\sqrt{16} = 4$"
      ]
    },
    {
      "cell_type": "markdown",
      "metadata": {
        "id": "pCAkajVa786D"
      },
      "source": [
        "#### Ответ:\n",
        "а) M(X) = -2\n",
        "\n",
        "б) D(X) = 16\n",
        "\n",
        "в) std(X) = 4"
      ]
    },
    {
      "cell_type": "markdown",
      "metadata": {
        "id": "9lGFy-Ni8ofI"
      },
      "source": [
        "#### 4. Рост взрослого населения города X имеет нормальное распределение. Причем, средний рост равен 174 см, а среднее квадратичное отклонение равно 8 см. Какова вероятность того, что случайным образом выбранный взрослый человек имеет рост:\n",
        "а) больше 182 см\n",
        "\n",
        "б) больше 190 см\n",
        "\n",
        "в) от 166 см до 190 см\n",
        "\n",
        "г) от 166 см до 182 см\n",
        "\n",
        "д) от 158 см до 190 см\n",
        "\n",
        "е) не выше 150 см или не ниже 190 см\n",
        "\n",
        "ё) не выше 150 см или не ниже 198 см\n",
        "\n",
        "ж) ниже 166 см."
      ]
    },
    {
      "cell_type": "code",
      "metadata": {
        "colab": {
          "base_uri": "https://localhost:8080/"
        },
        "id": "z2Kuqx2t4y7v",
        "outputId": "5b1f5604-0c78-428d-b8d7-adcac9f72310"
      },
      "source": [
        "from scipy.stats import norm\n",
        "\n",
        "nu = 174\n",
        "std = 8\n",
        "\n",
        "a = 1 - norm.cdf(1)\n",
        "b = 1 - norm.cdf(2)\n",
        "c = norm.cdf(2) - norm.cdf(-1)\n",
        "d = norm.cdf(1) - norm.cdf(-1)\n",
        "e = norm.cdf(2) - norm.cdf(-2)\n",
        "f = norm.cdf(-3) + 1 - norm.cdf(2)\n",
        "g = norm.cdf(-3) + 1 - norm.cdf(3)\n",
        "h = norm.cdf(-1)\n",
        "\n",
        "print (f'а) больше 182 см: {round(a*100, 2)}%')\n",
        "print (f'б) больше 190 см: {round(b*100, 2)}%')\n",
        "print (f'в) от 166 см до 190 см: {round(c*100, 2)}%')\n",
        "print (f'г) от 166 см до 182 см: {round(d*100, 2)}%')\n",
        "print (f'д) от 158 см до 190 см: {round(e*100, 2)}%')\n",
        "print (f'е) не выше 150 см или не ниже 190 см: {round(f*100, 2)}%')\n",
        "print (f'ё) не выше 150 см или не ниже 198 см: {round(g*100, 2)}%')\n",
        "print (f'ж) ниже 166 см: {round(h*100, 2)}%')"
      ],
      "execution_count": 3,
      "outputs": [
        {
          "output_type": "stream",
          "text": [
            "а) больше 182 см: 15.87%\n",
            "б) больше 190 см: 2.28%\n",
            "в) от 166 см до 190 см: 81.86%\n",
            "г) от 166 см до 182 см: 68.27%\n",
            "д) от 158 см до 190 см: 95.45%\n",
            "е) не выше 150 см или не ниже 190 см: 2.41%\n",
            "ё) не выше 150 см или не ниже 198 см: 0.27%\n",
            "ж) ниже 166 см: 15.87%\n"
          ],
          "name": "stdout"
        }
      ]
    },
    {
      "cell_type": "markdown",
      "metadata": {
        "id": "pTmi6MNeDBpd"
      },
      "source": [
        "#### 5. На сколько сигм (средних квадратичных отклонений) отклоняется рост человека, равный 190 см, от математического ожидания роста в популяции, в которой M(X) = 178 см и D(X) = 25 кв.см?"
      ]
    },
    {
      "cell_type": "code",
      "metadata": {
        "colab": {
          "base_uri": "https://localhost:8080/"
        },
        "id": "TZBBaoXM4y3_",
        "outputId": "2fedcc80-d32d-4260-b167-39f5c9f59908"
      },
      "source": [
        "x = 190\n",
        "MX = 178\n",
        "DX = 25\n",
        "std = DX**0.5\n",
        "\n",
        "delta = (x - MX) / std\n",
        "\n",
        "print (f'Ответ: {round(delta, 2)}')"
      ],
      "execution_count": 4,
      "outputs": [
        {
          "output_type": "stream",
          "text": [
            "Ответ: 2.4\n"
          ],
          "name": "stdout"
        }
      ]
    }
  ]
}