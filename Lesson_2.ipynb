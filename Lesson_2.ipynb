{
  "nbformat": 4,
  "nbformat_minor": 0,
  "metadata": {
    "colab": {
      "name": "Lesson_2.ipynb",
      "provenance": []
    },
    "kernelspec": {
      "name": "python3",
      "display_name": "Python 3"
    },
    "language_info": {
      "name": "python"
    }
  },
  "cells": [
    {
      "cell_type": "markdown",
      "metadata": {
        "id": "duoIIi5HIoQD"
      },
      "source": [
        "### Урок 2. Дискретные случайные величины. Закон распределения вероятностей. Биномиальный закон распределения. Распределение Пуассона\n"
      ]
    },
    {
      "cell_type": "code",
      "metadata": {
        "id": "vKOEHBpgIUhb"
      },
      "source": [
        "from math import factorial, exp\n",
        "\n",
        "def combinations(n, k):\n",
        "    return int(factorial(n) / (factorial(k) * factorial(n - k)))"
      ],
      "execution_count": 1,
      "outputs": []
    },
    {
      "cell_type": "markdown",
      "metadata": {
        "id": "0EEJsIoX2dq6"
      },
      "source": [
        "#### 1. Вероятность того, что стрелок попадет в мишень, выстрелив один раз, равна 0.8. Стрелок выстрелил 100 раз. Найдите вероятность того, что стрелок попадет в цель ровно 85 раз."
      ]
    },
    {
      "cell_type": "markdown",
      "metadata": {
        "id": "WtRX7xjNCljF"
      },
      "source": [
        "Используем формулу Бернулли $$P_n(X=k) = C_n^kp^kq^{n-k}$$ \n",
        "\n",
        "тогда вероятность того, что стрелок попадет в цель ровно 85 раз равна:"
      ]
    },
    {
      "cell_type": "code",
      "metadata": {
        "colab": {
          "base_uri": "https://localhost:8080/"
        },
        "id": "xImkB5Mu7brY",
        "outputId": "c3c43fa3-6526-4cb4-d26e-c1473dbdb2d0"
      },
      "source": [
        "n = 100 # количество исытаний\n",
        "k = 85 # число наступлений события\n",
        "p = 0.8 # вероятность наступления события в n независимых испытаний\n",
        "q = 1.0 - p\n",
        "\n",
        "X = combinations(n, k) * (p ** k) * q ** (n - k)\n",
        "X"
      ],
      "execution_count": 2,
      "outputs": [
        {
          "output_type": "execute_result",
          "data": {
            "text/plain": [
              "0.048061793700746355"
            ]
          },
          "metadata": {
            "tags": []
          },
          "execution_count": 2
        }
      ]
    },
    {
      "cell_type": "markdown",
      "metadata": {
        "id": "MRL67v6wCwzX"
      },
      "source": [
        "Ответ: 4,8%"
      ]
    },
    {
      "cell_type": "markdown",
      "metadata": {
        "id": "wz9L164zFrd0"
      },
      "source": [
        "#### 2. Вероятность того, что лампочка перегорит в течение первого дня эксплуатации, равна 0.0004. В жилом комплексе после ремонта в один день включили 5000 новых лампочек. "
      ]
    },
    {
      "cell_type": "markdown",
      "metadata": {
        "id": "qroxAwKaIoXz"
      },
      "source": [
        "#### Какова вероятность, что ни одна из них не перегорит в первый день? "
      ]
    },
    {
      "cell_type": "markdown",
      "metadata": {
        "id": "m-3WlGc24c5X"
      },
      "source": [
        "Поскольку вероятность успеха в каждом испытании мала, применим формулу Пуассона, зная, что \n",
        "\n",
        "$m = 0$ и $λ = np = 5000 \\cdot 0.0004 = 2$:\n"
      ]
    },
    {
      "cell_type": "markdown",
      "metadata": {
        "id": "KzB6JWIe5OmK"
      },
      "source": [
        "$$P_{5000}^0 \\approx \\frac{\\lambda^m}{m!}e^{-\\lambda} \\approx \\frac{2^{0}}{0!}e^{-2} \\approx  0.1353$$"
      ]
    },
    {
      "cell_type": "code",
      "metadata": {
        "colab": {
          "base_uri": "https://localhost:8080/"
        },
        "id": "_4lFvHmL2eCQ",
        "outputId": "cad4231e-75b7-4a8f-c816-3697739d51d0"
      },
      "source": [
        "n = 5000\n",
        "m = 0\n",
        "p = 0.0004\n",
        "lambda_ = n * p\n",
        "\n",
        "(lambda_**m / factorial(m)) * exp(-lambda_)"
      ],
      "execution_count": 3,
      "outputs": [
        {
          "output_type": "execute_result",
          "data": {
            "text/plain": [
              "0.1353352832366127"
            ]
          },
          "metadata": {
            "tags": []
          },
          "execution_count": 3
        }
      ]
    },
    {
      "cell_type": "markdown",
      "metadata": {
        "id": "0Mvk8yE5HwL6"
      },
      "source": [
        "Ответ: 13,5%"
      ]
    },
    {
      "cell_type": "markdown",
      "metadata": {
        "id": "62AgOcS8IvzC"
      },
      "source": [
        "#### Какова вероятность, что перегорят ровно две?"
      ]
    },
    {
      "cell_type": "markdown",
      "metadata": {
        "id": "Vl5xjmrJI3vW"
      },
      "source": [
        "Поскольку вероятность успеха в каждом испытании мала, применим формулу Пуассона, зная, что \n",
        "\n",
        "$m = 2$ и $λ = np = 5000 \\cdot 0.0004 = 2$:"
      ]
    },
    {
      "cell_type": "markdown",
      "metadata": {
        "id": "tSbkdeXgIW64"
      },
      "source": [
        "$$P_{5000}^2 \\approx \\frac{\\lambda^m}{m!}e^{-\\lambda} \\approx \\frac{2^{2}}{2!}e^{-2} \\approx  0.2707$$"
      ]
    },
    {
      "cell_type": "code",
      "metadata": {
        "colab": {
          "base_uri": "https://localhost:8080/"
        },
        "id": "cBUvv2Zy2eW-",
        "outputId": "08f93a27-a4ba-42bd-8080-554df64d47d6"
      },
      "source": [
        "n = 5000\n",
        "m = 2\n",
        "p = 0.0004\n",
        "lambda_ = n * p\n",
        "\n",
        "(lambda_**m / factorial(m)) * exp(-lambda_)"
      ],
      "execution_count": 4,
      "outputs": [
        {
          "output_type": "execute_result",
          "data": {
            "text/plain": [
              "0.2706705664732254"
            ]
          },
          "metadata": {
            "tags": []
          },
          "execution_count": 4
        }
      ]
    },
    {
      "cell_type": "markdown",
      "metadata": {
        "id": "IYXPmnzsI72J"
      },
      "source": [
        "Ответ: 27%"
      ]
    },
    {
      "cell_type": "markdown",
      "metadata": {
        "id": "IbaCbJOSJVQl"
      },
      "source": [
        "#### 3. Монету подбросили 144 раза. Какова вероятность, что орел выпадет ровно 70 раз?"
      ]
    },
    {
      "cell_type": "markdown",
      "metadata": {
        "id": "3aUCVN6RMVIY"
      },
      "source": [
        "Поскольку число испытаний невелико, и вероятность выпадания орла высокая, используем формулу Бернулли"
      ]
    },
    {
      "cell_type": "code",
      "metadata": {
        "colab": {
          "base_uri": "https://localhost:8080/"
        },
        "id": "j7OgYak52eeX",
        "outputId": "96c23b0e-03e2-4366-e201-1dd20981b02a"
      },
      "source": [
        "n = 144 # количество исытаний\n",
        "k = 70 # число наступлений события\n",
        "p = 0.5 # вероятность наступления события в n независимых испытаний\n",
        "q = 1.0 - p\n",
        "\n",
        "X = combinations(n, k) * (p ** k) * q ** (n - k)\n",
        "X"
      ],
      "execution_count": 5,
      "outputs": [
        {
          "output_type": "execute_result",
          "data": {
            "text/plain": [
              "0.06281178035144776"
            ]
          },
          "metadata": {
            "tags": []
          },
          "execution_count": 5
        }
      ]
    },
    {
      "cell_type": "markdown",
      "metadata": {
        "id": "7jZYe0qxKUMI"
      },
      "source": [
        "Ответ: 6,28%"
      ]
    },
    {
      "cell_type": "markdown",
      "metadata": {
        "id": "6-smaaDUMuCA"
      },
      "source": [
        "#### 4. В первом ящике находится 10 мячей, из которых 7 - белые. Во втором ящике - 11 мячей, из которых 9 белых. Из каждого ящика вытаскивают случайным образом по два мяча."
      ]
    },
    {
      "cell_type": "markdown",
      "metadata": {
        "id": "xq2FWbblM8jJ"
      },
      "source": [
        "#### Какова вероятность того, что все мячи белые?"
      ]
    },
    {
      "cell_type": "code",
      "metadata": {
        "colab": {
          "base_uri": "https://localhost:8080/"
        },
        "id": "tLItwdy72eiP",
        "outputId": "13f54a02-7564-4a26-ede6-00f167cf9a4b"
      },
      "source": [
        "(combinations(7, 2) / combinations(10, 2)) * (combinations(9, 2) / combinations(11, 2))"
      ],
      "execution_count": 6,
      "outputs": [
        {
          "output_type": "execute_result",
          "data": {
            "text/plain": [
              "0.3054545454545455"
            ]
          },
          "metadata": {
            "tags": []
          },
          "execution_count": 6
        }
      ]
    },
    {
      "cell_type": "markdown",
      "metadata": {
        "id": "sqmGQfe9Ou86"
      },
      "source": [
        "Ответ: 30,5%"
      ]
    },
    {
      "cell_type": "markdown",
      "metadata": {
        "id": "xX_bABMFNIVj"
      },
      "source": [
        "#### Какова вероятность того, что ровно два мяча белые?"
      ]
    },
    {
      "cell_type": "code",
      "metadata": {
        "colab": {
          "base_uri": "https://localhost:8080/"
        },
        "id": "eUHarI3fNH1C",
        "outputId": "1d3274b0-906d-4188-ebb6-f328954c1b3b"
      },
      "source": [
        "# вероятность достать 2 белых из первого и 2 черных из второго\n",
        "a = (combinations(7, 2) / combinations(10, 2)) * (combinations(2, 2) / combinations(11, 2))\n",
        "a"
      ],
      "execution_count": 7,
      "outputs": [
        {
          "output_type": "execute_result",
          "data": {
            "text/plain": [
              "0.008484848484848484"
            ]
          },
          "metadata": {
            "tags": []
          },
          "execution_count": 7
        }
      ]
    },
    {
      "cell_type": "code",
      "metadata": {
        "colab": {
          "base_uri": "https://localhost:8080/"
        },
        "id": "kqYriapLQsld",
        "outputId": "66b02fe8-a979-495b-9191-ff11e5486908"
      },
      "source": [
        "# вероятность достать 2 черных из первого и 2 белых из второго\n",
        "b = (combinations(3, 2) / combinations(10, 2)) * (combinations(9, 2) / combinations(11, 2))\n",
        "b"
      ],
      "execution_count": 8,
      "outputs": [
        {
          "output_type": "execute_result",
          "data": {
            "text/plain": [
              "0.04363636363636363"
            ]
          },
          "metadata": {
            "tags": []
          },
          "execution_count": 8
        }
      ]
    },
    {
      "cell_type": "code",
      "metadata": {
        "colab": {
          "base_uri": "https://localhost:8080/"
        },
        "id": "A1JqaNKIRrk2",
        "outputId": "09c49582-0e11-42b9-a428-f5d7bbca21de"
      },
      "source": [
        "# вероятность достать 1 белый + 1 черный из первого и 1 белый + 1 черный из второго\n",
        "с = (combinations(7, 1) * combinations(3, 1) / combinations(10, 2)) * (combinations(9, 1) * combinations(2, 1) / combinations(11, 2))\n",
        "с"
      ],
      "execution_count": 9,
      "outputs": [
        {
          "output_type": "execute_result",
          "data": {
            "text/plain": [
              "0.15272727272727274"
            ]
          },
          "metadata": {
            "tags": []
          },
          "execution_count": 9
        }
      ]
    },
    {
      "cell_type": "code",
      "metadata": {
        "colab": {
          "base_uri": "https://localhost:8080/"
        },
        "id": "_98I_mdRNH5E",
        "outputId": "52ea412b-7ba1-4ee6-95b3-5a88138cd183"
      },
      "source": [
        "result = a + b + с\n",
        "result"
      ],
      "execution_count": 10,
      "outputs": [
        {
          "output_type": "execute_result",
          "data": {
            "text/plain": [
              "0.20484848484848486"
            ]
          },
          "metadata": {
            "tags": []
          },
          "execution_count": 10
        }
      ]
    },
    {
      "cell_type": "markdown",
      "metadata": {
        "id": "6wdMBi_HSlpG"
      },
      "source": [
        "Ответ: 20,5%"
      ]
    },
    {
      "cell_type": "markdown",
      "metadata": {
        "id": "HV4XPDy2NApi"
      },
      "source": [
        "#### Какова вероятность того, что хотя бы один мяч белый?"
      ]
    },
    {
      "cell_type": "markdown",
      "metadata": {
        "id": "mYR73T-k_z4f"
      },
      "source": [
        "Найдем вероятность того, что все мячи черные"
      ]
    },
    {
      "cell_type": "code",
      "metadata": {
        "colab": {
          "base_uri": "https://localhost:8080/"
        },
        "id": "G42oHEGRNAA4",
        "outputId": "45b48168-2a84-40ee-9ca2-f3dd7fc28add"
      },
      "source": [
        "bl = (combinations(3, 2) / combinations(10, 2)) * (combinations(2, 2) / combinations(11, 2))\n",
        "bl"
      ],
      "execution_count": 11,
      "outputs": [
        {
          "output_type": "execute_result",
          "data": {
            "text/plain": [
              "0.0012121212121212121"
            ]
          },
          "metadata": {
            "tags": []
          },
          "execution_count": 11
        }
      ]
    },
    {
      "cell_type": "markdown",
      "metadata": {
        "id": "iUs_8RNOAH5E"
      },
      "source": [
        "Поскольку все остальные вероятности, кроме вероятности, что все мячи черные, нас устраивают, а общая сумма всех вероятностей равна 1, то"
      ]
    },
    {
      "cell_type": "code",
      "metadata": {
        "colab": {
          "base_uri": "https://localhost:8080/"
        },
        "id": "VWf7r_Je2eyk",
        "outputId": "151de9f8-16cc-4b5e-f288-1b3a79c09431"
      },
      "source": [
        "result = 1 - bl\n",
        "result"
      ],
      "execution_count": 12,
      "outputs": [
        {
          "output_type": "execute_result",
          "data": {
            "text/plain": [
              "0.9987878787878788"
            ]
          },
          "metadata": {
            "tags": []
          },
          "execution_count": 12
        }
      ]
    },
    {
      "cell_type": "markdown",
      "metadata": {
        "id": "7cenw-YQAisC"
      },
      "source": [
        "Ответ: 99,88%"
      ]
    }
  ]
}