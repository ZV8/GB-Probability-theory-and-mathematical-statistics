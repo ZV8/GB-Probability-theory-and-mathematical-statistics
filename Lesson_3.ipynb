{
  "nbformat": 4,
  "nbformat_minor": 0,
  "metadata": {
    "colab": {
      "name": "Lesson_3.ipynb",
      "provenance": []
    },
    "kernelspec": {
      "name": "python3",
      "display_name": "Python 3"
    },
    "language_info": {
      "name": "python"
    }
  },
  "cells": [
    {
      "cell_type": "markdown",
      "metadata": {
        "id": "duoIIi5HIoQD"
      },
      "source": [
        "### Урок 3. Описательная статистика. Качественные и количественные характеристики популяции. Графическое представление данных\n"
      ]
    },
    {
      "cell_type": "code",
      "metadata": {
        "id": "vKOEHBpgIUhb"
      },
      "source": [
        "from math import factorial, exp\n",
        "import numpy as np\n",
        "\n",
        "def combinations(n, k):\n",
        "    return int(factorial(n) / (factorial(k) * factorial(n - k)))"
      ],
      "execution_count": 1,
      "outputs": []
    },
    {
      "cell_type": "markdown",
      "metadata": {
        "id": "0EEJsIoX2dq6"
      },
      "source": [
        "#### 1. Даны значения зарплат из выборки выпускников: 100, 80, 75, 77, 89, 33, 45, 25, 65, 17, 30, 24, 57, 55, 70, 75, 65, 84, 90, 150. Посчитать (желательно без использования статистических методов наподобие std, var, mean) среднее арифметическое, среднее квадратичное"
      ]
    },
    {
      "cell_type": "code",
      "metadata": {
        "colab": {
          "base_uri": "https://localhost:8080/"
        },
        "id": "PBt5qHhQ7CFF",
        "outputId": "7c84875f-7897-45f3-940f-c6ca13693fb7"
      },
      "source": [
        "nums = np.array([100, 80, 75, 77, 89, 33, 45, 25, 65, 17, 30, 24, 57, 55, 70, 75, 65, 84, 90, 150])\n",
        "nums"
      ],
      "execution_count": 2,
      "outputs": [
        {
          "output_type": "execute_result",
          "data": {
            "text/plain": [
              "array([100,  80,  75,  77,  89,  33,  45,  25,  65,  17,  30,  24,  57,\n",
              "        55,  70,  75,  65,  84,  90, 150])"
            ]
          },
          "metadata": {
            "tags": []
          },
          "execution_count": 2
        }
      ]
    },
    {
      "cell_type": "markdown",
      "metadata": {
        "id": "WHIfYtV_-qTJ"
      },
      "source": [
        "Среднее арифметическое:\n",
        "$$M(X) = \\frac{1}{n} \\sum\\limits_{i=1}^{n} x_i$$\n",
        "где  𝑥  — значения наблюдений,  𝑛  — количество наблюдений."
      ]
    },
    {
      "cell_type": "code",
      "metadata": {
        "colab": {
          "base_uri": "https://localhost:8080/"
        },
        "id": "M20uA9iw7CNU",
        "outputId": "2445ee3e-22f4-40f4-97cb-2b129917492b"
      },
      "source": [
        "nums_mean = nums.sum() / len(nums)\n",
        "nums_mean"
      ],
      "execution_count": 3,
      "outputs": [
        {
          "output_type": "execute_result",
          "data": {
            "text/plain": [
              "65.3"
            ]
          },
          "metadata": {
            "tags": []
          },
          "execution_count": 3
        }
      ]
    },
    {
      "cell_type": "markdown",
      "metadata": {
        "id": "h-1bnNOB_VBL"
      },
      "source": [
        "Среднее квадратичное отклонение:\n",
        "$$\\sigma = \\sqrt{\\frac{\\sum\\limits_{i=1}^{n} (x_i - \\overline{x})^2}{n}}$$"
      ]
    },
    {
      "cell_type": "code",
      "metadata": {
        "colab": {
          "base_uri": "https://localhost:8080/"
        },
        "id": "wr2bH21W7CRO",
        "outputId": "4016bd69-72b2-4372-a79d-dc4c9c59bbd9"
      },
      "source": [
        "nums_std = np.sqrt(((nums - nums.sum() / len(nums))**2).sum() / len(nums))\n",
        "nums_std"
      ],
      "execution_count": 4,
      "outputs": [
        {
          "output_type": "execute_result",
          "data": {
            "text/plain": [
              "30.823854398825596"
            ]
          },
          "metadata": {
            "tags": []
          },
          "execution_count": 4
        }
      ]
    },
    {
      "cell_type": "markdown",
      "metadata": {
        "id": "PL71-yQJ_wCh"
      },
      "source": [
        "#### 2. В первом ящике находится 8 мячей, из которых 5 - белые. Во втором ящике - 12 мячей, из которых 5 белых. Из первого ящика вытаскивают случайным образом два мяча, из второго - 4. Какова вероятность того, что 3 мяча белые?"
      ]
    },
    {
      "cell_type": "code",
      "metadata": {
        "colab": {
          "base_uri": "https://localhost:8080/"
        },
        "id": "tLB5jFbK7CXg",
        "outputId": "e2461327-f5c0-42d1-a3a1-b5c2cd66b4a3"
      },
      "source": [
        "# вероятность достать 0 белых из первого и 3 белых из второго\n",
        "a = (combinations(5, 0)*combinations(3, 2) / combinations(8, 2)) * (combinations(5, 3)*combinations(7, 1) / combinations(12, 4))\n",
        "a"
      ],
      "execution_count": 5,
      "outputs": [
        {
          "output_type": "execute_result",
          "data": {
            "text/plain": [
              "0.01515151515151515"
            ]
          },
          "metadata": {
            "tags": []
          },
          "execution_count": 5
        }
      ]
    },
    {
      "cell_type": "code",
      "metadata": {
        "colab": {
          "base_uri": "https://localhost:8080/"
        },
        "id": "8xVXZ6d3_zHm",
        "outputId": "efc244bd-e410-4924-f643-f732ac9473aa"
      },
      "source": [
        "# вероятность достать 1 белый из первого и 2 белых из второго\n",
        "b = (combinations(5, 1)*combinations(3, 1) / combinations(8, 2)) * (combinations(5, 2)*combinations(7, 2) / combinations(12, 4))\n",
        "b"
      ],
      "execution_count": 6,
      "outputs": [
        {
          "output_type": "execute_result",
          "data": {
            "text/plain": [
              "0.22727272727272727"
            ]
          },
          "metadata": {
            "tags": []
          },
          "execution_count": 6
        }
      ]
    },
    {
      "cell_type": "code",
      "metadata": {
        "colab": {
          "base_uri": "https://localhost:8080/"
        },
        "id": "KozDMETa_zKc",
        "outputId": "0738a6d3-cb02-4ac5-f6b9-081a8ecc3f4d"
      },
      "source": [
        "# вероятность достать 2 белых из первого и 1 белый из второго\n",
        "c = (combinations(5, 2)*combinations(3, 0) / combinations(8, 2)) * (combinations(5, 1)*combinations(7, 3) / combinations(12, 4))\n",
        "c"
      ],
      "execution_count": 7,
      "outputs": [
        {
          "output_type": "execute_result",
          "data": {
            "text/plain": [
              "0.12626262626262627"
            ]
          },
          "metadata": {
            "tags": []
          },
          "execution_count": 7
        }
      ]
    },
    {
      "cell_type": "code",
      "metadata": {
        "colab": {
          "base_uri": "https://localhost:8080/"
        },
        "id": "fQTtazuo_zNd",
        "outputId": "41b77919-7073-4da0-bd5a-16252872f17e"
      },
      "source": [
        "result = a + b + c\n",
        "result"
      ],
      "execution_count": 8,
      "outputs": [
        {
          "output_type": "execute_result",
          "data": {
            "text/plain": [
              "0.3686868686868687"
            ]
          },
          "metadata": {
            "tags": []
          },
          "execution_count": 8
        }
      ]
    },
    {
      "cell_type": "markdown",
      "metadata": {
        "id": "k-nBBYCODscE"
      },
      "source": [
        "Ответ: 36,87%"
      ]
    },
    {
      "cell_type": "markdown",
      "metadata": {
        "id": "ZD5F_Na3NBRj"
      },
      "source": [
        "#### 3. На соревновании по биатлону один из трех спортсменов стреляет и попадает в мишень. Вероятность попадания для первого спортсмена равна 0.9, для второго — 0.8, для третьего — 0.6. Найти вероятность того, что выстрел произведен: a). первым спортсменом б). вторым спортсменом в). третьим спортсменом."
      ]
    },
    {
      "cell_type": "markdown",
      "metadata": {
        "id": "VVo2XelwlVl8"
      },
      "source": [
        "Чтобы определить вероятность события  𝐵  при условии, что событие  𝐴  уже произошло, используют формулу Байеса:\n",
        "$$P(B\\:|\\:A) = \\frac{P(B) \\cdot P(A\\:|\\:B)}{P(A)}$$"
      ]
    },
    {
      "cell_type": "markdown",
      "metadata": {
        "id": "JLEOBSVJluNa"
      },
      "source": [
        "Все величины подставим из условия, а знаменатель дроби распишем по формуле полной вероятности.\n",
        "\n",
        "Вероятность того, что выстрел произведен первым спортсменом:\n",
        "$$P(B_1\\:|\\:A) = \\frac{\\frac{1}{3} \\cdot 0.9}{\\frac{1}{3} \\cdot 0.9 + \\frac{1}{3} \\cdot 0.8 + \\frac{1}{3} \\cdot 0.6} \\approx 0.3913$$"
      ]
    },
    {
      "cell_type": "markdown",
      "metadata": {
        "id": "QkkTg_XZoAuU"
      },
      "source": [
        "Вероятность того, что выстрел произведен вторым спортсменом:\n",
        "$$P(B_2\\:|\\:A) = \\frac{\\frac{1}{3} \\cdot 0.8}{\\frac{1}{3} \\cdot 0.9 + \\frac{1}{3} \\cdot 0.8 + \\frac{1}{3} \\cdot 0.6} \\approx 0.3478$$"
      ]
    },
    {
      "cell_type": "markdown",
      "metadata": {
        "id": "mx3NN2TxoBEy"
      },
      "source": [
        "Вероятность того, что выстрел произведен первым спортсменом:\n",
        "$$P(B_3\\:|\\:A) = \\frac{\\frac{1}{3} \\cdot 0.6}{\\frac{1}{3} \\cdot 0.9 + \\frac{1}{3} \\cdot 0.8 + \\frac{1}{3} \\cdot 0.6} \\approx 0.2609$$"
      ]
    },
    {
      "cell_type": "code",
      "metadata": {
        "colab": {
          "base_uri": "https://localhost:8080/"
        },
        "id": "7zCB8EoP_zP5",
        "outputId": "a4f094af-f9e5-4d05-b0a6-824be9a6f65c"
      },
      "source": [
        "# полная вероятность события А (попадания в мишень)\n",
        "P_A = 1/3*0.9 + 1/3*0.8 + 1/3*0.6\n",
        "P_A"
      ],
      "execution_count": 9,
      "outputs": [
        {
          "output_type": "execute_result",
          "data": {
            "text/plain": [
              "0.7666666666666666"
            ]
          },
          "metadata": {
            "tags": []
          },
          "execution_count": 9
        }
      ]
    },
    {
      "cell_type": "code",
      "metadata": {
        "colab": {
          "base_uri": "https://localhost:8080/"
        },
        "id": "XDeVWXE7NEQv",
        "outputId": "5d9f00f5-5441-4f09-a647-cfcfd1cffca1"
      },
      "source": [
        "P_B1A = 1/3*0.9/P_A\n",
        "P_B1A"
      ],
      "execution_count": 10,
      "outputs": [
        {
          "output_type": "execute_result",
          "data": {
            "text/plain": [
              "0.391304347826087"
            ]
          },
          "metadata": {
            "tags": []
          },
          "execution_count": 10
        }
      ]
    },
    {
      "cell_type": "code",
      "metadata": {
        "colab": {
          "base_uri": "https://localhost:8080/"
        },
        "id": "xZpMLwcINETt",
        "outputId": "f7ca344b-d75e-4815-b9a7-759d1fdb7fbf"
      },
      "source": [
        "P_B2A = 1/3*0.8/P_A\n",
        "P_B2A"
      ],
      "execution_count": 11,
      "outputs": [
        {
          "output_type": "execute_result",
          "data": {
            "text/plain": [
              "0.3478260869565218"
            ]
          },
          "metadata": {
            "tags": []
          },
          "execution_count": 11
        }
      ]
    },
    {
      "cell_type": "code",
      "metadata": {
        "colab": {
          "base_uri": "https://localhost:8080/"
        },
        "id": "Q87cln5fNEW0",
        "outputId": "1637a8c6-ae98-4617-debe-e6e5a4a717b6"
      },
      "source": [
        "P_B3A = 1/3*0.6/P_A\n",
        "P_B3A"
      ],
      "execution_count": 12,
      "outputs": [
        {
          "output_type": "execute_result",
          "data": {
            "text/plain": [
              "0.2608695652173913"
            ]
          },
          "metadata": {
            "tags": []
          },
          "execution_count": 12
        }
      ]
    },
    {
      "cell_type": "markdown",
      "metadata": {
        "id": "5O6n7rjspcWW"
      },
      "source": [
        "#### 4. В университет на факультеты A и B поступило равное количество студентов, а на факультет C студентов поступило столько же, сколько на A и B вместе. Вероятность того, что студент факультета A сдаст первую сессию, равна 0.8. Для студента факультета B эта вероятность равна 0.7, а для студента факультета C - 0.9. Студент сдал первую сессию. Какова вероятность, что он учится: a). на факультете A б). на факультете B в). на факультете C?"
      ]
    },
    {
      "cell_type": "markdown",
      "metadata": {
        "id": "XputrbYFrYte"
      },
      "source": [
        "Чтобы определить вероятность события  𝐵  при условии, что событие  𝐴  уже произошло, используют формулу Байеса:\n",
        "$$P(B\\:|\\:A) = \\frac{P(B) \\cdot P(A\\:|\\:B)}{P(A)}$$"
      ]
    },
    {
      "cell_type": "code",
      "metadata": {
        "colab": {
          "base_uri": "https://localhost:8080/"
        },
        "id": "eQzKQIOUNEcF",
        "outputId": "2bcb6439-989e-4b8a-babf-5c45887e39bf"
      },
      "source": [
        "# полная вероятность события А (студент сдал первую сессию)\n",
        "P_A = 1/4*0.8 + 1/4*0.7 + 1/2*0.9\n",
        "P_A"
      ],
      "execution_count": 13,
      "outputs": [
        {
          "output_type": "execute_result",
          "data": {
            "text/plain": [
              "0.825"
            ]
          },
          "metadata": {
            "tags": []
          },
          "execution_count": 13
        }
      ]
    },
    {
      "cell_type": "code",
      "metadata": {
        "colab": {
          "base_uri": "https://localhost:8080/"
        },
        "id": "aUSgenxxqNR1",
        "outputId": "467cc373-37c8-4baa-d25e-a4bf985fe775"
      },
      "source": [
        "# вероятность, что он учится на факультете A\n",
        "P_B1A = 1/4*0.8/P_A\n",
        "P_B1A"
      ],
      "execution_count": 14,
      "outputs": [
        {
          "output_type": "execute_result",
          "data": {
            "text/plain": [
              "0.24242424242424246"
            ]
          },
          "metadata": {
            "tags": []
          },
          "execution_count": 14
        }
      ]
    },
    {
      "cell_type": "code",
      "metadata": {
        "colab": {
          "base_uri": "https://localhost:8080/"
        },
        "id": "psXj_3I9qNWg",
        "outputId": "ccf3e203-f651-418d-e2bc-db09047a47e4"
      },
      "source": [
        "# вероятность, что он учится на факультете B\n",
        "P_B2A = 1/4*0.7/P_A\n",
        "P_B2A"
      ],
      "execution_count": 15,
      "outputs": [
        {
          "output_type": "execute_result",
          "data": {
            "text/plain": [
              "0.21212121212121213"
            ]
          },
          "metadata": {
            "tags": []
          },
          "execution_count": 15
        }
      ]
    },
    {
      "cell_type": "code",
      "metadata": {
        "colab": {
          "base_uri": "https://localhost:8080/"
        },
        "id": "7X2jLlawqNd4",
        "outputId": "462e0cc6-b2b6-4594-d631-1041324715b0"
      },
      "source": [
        "# вероятность, что он учится на факультете C\n",
        "P_B3A = 1/2*0.9/P_A\n",
        "P_B3A"
      ],
      "execution_count": 16,
      "outputs": [
        {
          "output_type": "execute_result",
          "data": {
            "text/plain": [
              "0.5454545454545455"
            ]
          },
          "metadata": {
            "tags": []
          },
          "execution_count": 16
        }
      ]
    },
    {
      "cell_type": "markdown",
      "metadata": {
        "id": "8uqJDqrlsMhR"
      },
      "source": [
        "#### 5. Устройство состоит из трех деталей. Для первой детали вероятность выйти из строя в первый месяц равна 0.1, для второй - 0.2, для третьей - 0.25. Какова вероятность того, что в первый месяц выйдут из строя: а). все детали б). только две детали в). хотя бы одна деталь г). от одной до двух деталей?"
      ]
    },
    {
      "cell_type": "code",
      "metadata": {
        "colab": {
          "base_uri": "https://localhost:8080/"
        },
        "id": "5LfGGVFfNEea",
        "outputId": "fedc58a1-3d8a-4ee6-eba3-037e5e2fcadb"
      },
      "source": [
        "# вероятность того, что в первый месяц выйдут из строя все детали\n",
        "d3 = 0.1*0.2*0.25\n",
        "d3"
      ],
      "execution_count": 17,
      "outputs": [
        {
          "output_type": "execute_result",
          "data": {
            "text/plain": [
              "0.005000000000000001"
            ]
          },
          "metadata": {
            "tags": []
          },
          "execution_count": 17
        }
      ]
    },
    {
      "cell_type": "markdown",
      "metadata": {
        "id": "NPixIf_PtgLb"
      },
      "source": [
        "Ответ (а): 0,5%"
      ]
    },
    {
      "cell_type": "code",
      "metadata": {
        "colab": {
          "base_uri": "https://localhost:8080/"
        },
        "id": "ZYLufQS1sLrt",
        "outputId": "ddbf907c-191f-4721-efe7-ce4cb165a8cd"
      },
      "source": [
        "# вероятность того, что в первый месяц выйдут из строя только две детали\n",
        "d2 = 0.1*0.2*0.75 + 0.1*0.8*0.25 + 0.9*0.2*0.25\n",
        "d2"
      ],
      "execution_count": 18,
      "outputs": [
        {
          "output_type": "execute_result",
          "data": {
            "text/plain": [
              "0.08000000000000002"
            ]
          },
          "metadata": {
            "tags": []
          },
          "execution_count": 18
        }
      ]
    },
    {
      "cell_type": "markdown",
      "metadata": {
        "id": "Vrb9Mv2sufEo"
      },
      "source": [
        "Ответ (б): 8%"
      ]
    },
    {
      "cell_type": "code",
      "metadata": {
        "colab": {
          "base_uri": "https://localhost:8080/"
        },
        "id": "bPiN6JQAsLvS",
        "outputId": "175a36b1-1679-4cc8-ac15-7ed9e2002783"
      },
      "source": [
        "# вероятность того, что в первый месяц выйдет из строя хотя бы одна деталь\n",
        "# равна 1 минус вероятность того, что из строя не выйдет ни одна деталь\n",
        "d_not_null = 1 - 0.9*0.8*0.75\n",
        "d_not_null"
      ],
      "execution_count": 19,
      "outputs": [
        {
          "output_type": "execute_result",
          "data": {
            "text/plain": [
              "0.45999999999999996"
            ]
          },
          "metadata": {
            "tags": []
          },
          "execution_count": 19
        }
      ]
    },
    {
      "cell_type": "markdown",
      "metadata": {
        "id": "0Bvcd3d3w2qx"
      },
      "source": [
        "Ответ (в): 46%"
      ]
    },
    {
      "cell_type": "code",
      "metadata": {
        "colab": {
          "base_uri": "https://localhost:8080/"
        },
        "id": "9MvYTxFL2P9g",
        "outputId": "b3812536-f453-45a5-a6db-86a72fd7b095"
      },
      "source": [
        "# вероятность того, что в первый месяц выйдет из строя одна деталь\n",
        "d1 = 0.1*0.8*0.75 + 0.9*0.2*0.75 + 0.9*0.8*0.25\n",
        "d1"
      ],
      "execution_count": 20,
      "outputs": [
        {
          "output_type": "execute_result",
          "data": {
            "text/plain": [
              "0.375"
            ]
          },
          "metadata": {
            "tags": []
          },
          "execution_count": 20
        }
      ]
    },
    {
      "cell_type": "code",
      "metadata": {
        "colab": {
          "base_uri": "https://localhost:8080/"
        },
        "id": "Xukh8qpbsL2O",
        "outputId": "76550c3e-364b-4df6-b36d-80dc56f823bb"
      },
      "source": [
        "# вероятность того, что в первый месяц выйдут из строя от одной до двух деталей\n",
        "d1 + d2"
      ],
      "execution_count": 21,
      "outputs": [
        {
          "output_type": "execute_result",
          "data": {
            "text/plain": [
              "0.455"
            ]
          },
          "metadata": {
            "tags": []
          },
          "execution_count": 21
        }
      ]
    },
    {
      "cell_type": "markdown",
      "metadata": {
        "id": "MVUIID-d1g95"
      },
      "source": [
        "Ответ (г): 45,5%"
      ]
    }
  ]
}