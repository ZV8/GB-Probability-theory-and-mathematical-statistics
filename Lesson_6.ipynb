{
  "nbformat": 4,
  "nbformat_minor": 0,
  "metadata": {
    "colab": {
      "name": "Lesson_6.ipynb",
      "provenance": []
    },
    "kernelspec": {
      "name": "python3",
      "display_name": "Python 3"
    },
    "language_info": {
      "name": "python"
    }
  },
  "cells": [
    {
      "cell_type": "markdown",
      "metadata": {
        "id": "duoIIi5HIoQD"
      },
      "source": [
        "### Урок 6. Взаимосвязь величин. Параметрические и непараметрические показатели корреляции. Корреляционный анализ.\n"
      ]
    },
    {
      "cell_type": "code",
      "metadata": {
        "id": "xpRHHWpoXsLj"
      },
      "source": [
        "import numpy as np"
      ],
      "execution_count": 1,
      "outputs": []
    },
    {
      "cell_type": "markdown",
      "metadata": {
        "id": "0EEJsIoX2dq6"
      },
      "source": [
        "#### 1. Даны значения величины заработной платы заемщиков банка (zp) и значения их поведенческого кредитного скоринга (ks):\n",
        "\n",
        "zp = [35, 45, 190, 200, 40, 70, 54, 150, 120, 110],\n",
        "\n",
        "ks = [401, 574, 874, 919, 459, 739, 653, 902, 746, 832].\n",
        "\n",
        "#### Найдите ковариацию этих двух величин с помощью элементарных действий, а затем с помощью функции cov из numpy Полученные значения должны быть равны. \n",
        "####  Найдите коэффициент корреляции Пирсона с помощью ковариации и среднеквадратичных отклонений двух признаков, а затем с использованием функций из библиотек numpy и pandas."
      ]
    },
    {
      "cell_type": "code",
      "metadata": {
        "id": "7UZAa-3pwcM9"
      },
      "source": [
        "zp = np.array([35, 45, 190, 200, 40, 70, 54, 150, 120, 110])\n",
        "ks = np.array([401, 574, 874, 919, 459, 739, 653, 902, 746, 832])"
      ],
      "execution_count": 2,
      "outputs": []
    },
    {
      "cell_type": "code",
      "metadata": {
        "colab": {
          "base_uri": "https://localhost:8080/"
        },
        "id": "9X2EhdWwwcXn",
        "outputId": "9a9c3b60-072d-4e8a-f151-1591636c71d8"
      },
      "source": [
        "cov = np.mean(zp*ks)-np.mean(zp)*np.mean(ks)\n",
        "cov"
      ],
      "execution_count": 3,
      "outputs": [
        {
          "output_type": "execute_result",
          "data": {
            "text/plain": [
              "9157.839999999997"
            ]
          },
          "metadata": {
            "tags": []
          },
          "execution_count": 3
        }
      ]
    },
    {
      "cell_type": "code",
      "metadata": {
        "colab": {
          "base_uri": "https://localhost:8080/"
        },
        "id": "gyx6lHdWwca4",
        "outputId": "40daf760-6d31-4cda-bc62-64490d34c314"
      },
      "source": [
        "cov = np.cov(zp,ks,ddof=0)\n",
        "cov"
      ],
      "execution_count": 4,
      "outputs": [
        {
          "output_type": "execute_result",
          "data": {
            "text/plain": [
              "array([[ 3494.64,  9157.84],\n",
              "       [ 9157.84, 30468.89]])"
            ]
          },
          "metadata": {
            "tags": []
          },
          "execution_count": 4
        }
      ]
    },
    {
      "cell_type": "code",
      "metadata": {
        "colab": {
          "base_uri": "https://localhost:8080/"
        },
        "id": "7aexud8kwcdd",
        "outputId": "44863f92-9bd0-4f9d-82e3-f193a71d0f14"
      },
      "source": [
        "cor = cov / (np.std(zp, ddof=0)*np.std(ks, ddof=0))\n",
        "cor"
      ],
      "execution_count": 5,
      "outputs": [
        {
          "output_type": "execute_result",
          "data": {
            "text/plain": [
              "array([[0.33866702, 0.88749009],\n",
              "       [0.88749009, 2.95275283]])"
            ]
          },
          "metadata": {
            "tags": []
          },
          "execution_count": 5
        }
      ]
    },
    {
      "cell_type": "code",
      "metadata": {
        "colab": {
          "base_uri": "https://localhost:8080/"
        },
        "id": "5m3Vpb6GwchN",
        "outputId": "f6844921-e943-4a97-dabd-d279f6a45f00"
      },
      "source": [
        "cor2 = np.corrcoef(zp,ks)\n",
        "cor2"
      ],
      "execution_count": 6,
      "outputs": [
        {
          "output_type": "execute_result",
          "data": {
            "text/plain": [
              "array([[1.        , 0.88749009],\n",
              "       [0.88749009, 1.        ]])"
            ]
          },
          "metadata": {
            "tags": []
          },
          "execution_count": 6
        }
      ]
    },
    {
      "cell_type": "markdown",
      "metadata": {
        "id": "WyY0wUV83nH9"
      },
      "source": [
        "#### 2. Измерены значения IQ выборки студентов, обучающихся в местных технических вузах:\n",
        "\n",
        "131, 125, 115, 122, 131, 115, 107, 99, 125, 111\n",
        "\n",
        "#### Известно, что в генеральной совокупности IQ распределен нормально. Найдите доверительный интервал для математического ожидания с надежностью 0.95."
      ]
    },
    {
      "cell_type": "code",
      "metadata": {
        "id": "_0H6ch2hwclv"
      },
      "source": [
        "data = np.array([131, 125, 115, 122, 131, 115, 107, 99, 125, 111])\n",
        "n = len(data)\n",
        "t = 2.262\n",
        "std = np.std(data, ddof=1)\n",
        "mu = data.mean()"
      ],
      "execution_count": 7,
      "outputs": []
    },
    {
      "cell_type": "code",
      "metadata": {
        "colab": {
          "base_uri": "https://localhost:8080/"
        },
        "id": "UN69SfACwcoN",
        "outputId": "9b5b3c2f-30ae-4a4c-aee9-698fd6a50e27"
      },
      "source": [
        "L = mu - t * std / n**0.5\n",
        "U = mu + t * std / n**0.5\n",
        "print(f'Ответ: [{L}; {U}]')"
      ],
      "execution_count": 8,
      "outputs": [
        {
          "output_type": "stream",
          "text": [
            "Ответ: [110.55660776308164; 125.64339223691834]\n"
          ],
          "name": "stdout"
        }
      ]
    },
    {
      "cell_type": "markdown",
      "metadata": {
        "id": "eV2QYJIo5Tpb"
      },
      "source": [
        "#### 3. Известно, что рост футболистов в сборной распределен нормально с дисперсией генеральной совокупности, равной 25 кв.см. Объем выборки равен 27, среднее выборочное составляет 174.2. Найдите доверительный интервал для математического ожидания с альфа =0,95"
      ]
    },
    {
      "cell_type": "code",
      "metadata": {
        "id": "D1w52XjEwct7"
      },
      "source": [
        "std = 25**0.5\n",
        "X = 174.2\n",
        "n = 27\n",
        "Z = 1.96"
      ],
      "execution_count": 9,
      "outputs": []
    },
    {
      "cell_type": "code",
      "metadata": {
        "colab": {
          "base_uri": "https://localhost:8080/"
        },
        "id": "MGJpi2OXwcwL",
        "outputId": "fa7100d2-3da4-4aba-da28-c7b5bc19ef13"
      },
      "source": [
        "L = X - Z * std / n**0.5\n",
        "U = X + Z * std / n**0.5\n",
        "print(f'Ответ: [{L}; {U}]')"
      ],
      "execution_count": 10,
      "outputs": [
        {
          "output_type": "stream",
          "text": [
            "Ответ: [172.31398912064722; 176.08601087935276]\n"
          ],
          "name": "stdout"
        }
      ]
    }
  ]
}