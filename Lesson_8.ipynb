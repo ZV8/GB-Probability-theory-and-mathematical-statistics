{
  "nbformat": 4,
  "nbformat_minor": 0,
  "metadata": {
    "colab": {
      "name": "Lesson_8.ipynb",
      "provenance": []
    },
    "kernelspec": {
      "name": "python3",
      "display_name": "Python 3"
    },
    "language_info": {
      "name": "python"
    }
  },
  "cells": [
    {
      "cell_type": "markdown",
      "metadata": {
        "id": "duoIIi5HIoQD"
      },
      "source": [
        "### Урок 8. Дисперсионный анализ. Логистическая регрессия\n"
      ]
    },
    {
      "cell_type": "code",
      "metadata": {
        "id": "xpRHHWpoXsLj"
      },
      "source": [
        "import numpy as np\n",
        "from scipy import stats"
      ],
      "execution_count": 1,
      "outputs": []
    },
    {
      "cell_type": "markdown",
      "metadata": {
        "id": "J4Y1iF2ZgC8O"
      },
      "source": [
        "#### 1. Провести дисперсионный анализ для определения того, есть ли различия среднего роста среди взрослых футболистов, хоккеистов и штангистов. Даны значения роста в трех группах случайно выбранных спортсменов: \n",
        "\n",
        "Футболисты: 173, 175, 180, 178, 177, 185, 183, 182.\n",
        "\n",
        "Хоккеисты: 177, 179, 180, 188, 177, 172, 171, 184, 180. \n",
        "\n",
        "Штангисты: 172, 173, 169, 177, 166, 180, 178, 177, 172, 166, 170."
      ]
    },
    {
      "cell_type": "markdown",
      "metadata": {
        "id": "whpk6O1Hkqzn"
      },
      "source": [
        "Рост футболистов:"
      ]
    },
    {
      "cell_type": "code",
      "metadata": {
        "id": "DmUSEpWXku9C"
      },
      "source": [
        "y1 = np.array([173, 175, 180, 178, 177, 185, 183, 182], dtype=np.float64)"
      ],
      "execution_count": 2,
      "outputs": []
    },
    {
      "cell_type": "markdown",
      "metadata": {
        "id": "f0mCkpark3Os"
      },
      "source": [
        "Рост хоккеистов:"
      ]
    },
    {
      "cell_type": "code",
      "metadata": {
        "id": "SHjl5K6LkxjO"
      },
      "source": [
        "y2 = np.array([177, 179, 180, 188, 177, 172, 171, 184, 180], dtype=np.float64)"
      ],
      "execution_count": 3,
      "outputs": []
    },
    {
      "cell_type": "markdown",
      "metadata": {
        "id": "lNLDlt6Ck52t"
      },
      "source": [
        "Рост штангистов:"
      ]
    },
    {
      "cell_type": "code",
      "metadata": {
        "id": "eRIiDRQbk0MF"
      },
      "source": [
        "y3 = np.array([172, 173, 169, 177, 166, 180, 178, 177, 172, 166, 170], dtype=np.float64)"
      ],
      "execution_count": 4,
      "outputs": []
    },
    {
      "cell_type": "markdown",
      "metadata": {
        "id": "nswDtg4PxO-p"
      },
      "source": [
        "Всего значений:"
      ]
    },
    {
      "cell_type": "code",
      "metadata": {
        "colab": {
          "base_uri": "https://localhost:8080/"
        },
        "id": "kDRRUbCXgEVG",
        "outputId": "9dcf65f9-b659-4cc0-a316-974824b394d6"
      },
      "source": [
        "n1 = len(y1)\n",
        "n2 = len(y2)\n",
        "n3 = len(y3)\n",
        "n = n1 + n2 + n3\n",
        "n"
      ],
      "execution_count": 5,
      "outputs": [
        {
          "output_type": "execute_result",
          "data": {
            "text/plain": [
              "28"
            ]
          },
          "metadata": {
            "tags": []
          },
          "execution_count": 5
        }
      ]
    },
    {
      "cell_type": "markdown",
      "metadata": {
        "id": "BFxxU244klDx"
      },
      "source": [
        "Всего три группы:"
      ]
    },
    {
      "cell_type": "code",
      "metadata": {
        "id": "fWY-rzrrknoA"
      },
      "source": [
        "k = 3"
      ],
      "execution_count": 6,
      "outputs": []
    },
    {
      "cell_type": "markdown",
      "metadata": {
        "id": "xM1ph0Zii6SO"
      },
      "source": [
        "#### Проведем однофакторный дисперсионный анализ. \n",
        "Сначала найдем средний рост для каждой профессии:"
      ]
    },
    {
      "cell_type": "code",
      "metadata": {
        "colab": {
          "base_uri": "https://localhost:8080/"
        },
        "id": "_NJOFP4ygEdQ",
        "outputId": "9c77003a-4dad-49f1-e415-02247c9e451c"
      },
      "source": [
        "y1_mean = np.mean(y1)\n",
        "print(y1_mean)"
      ],
      "execution_count": 7,
      "outputs": [
        {
          "output_type": "stream",
          "text": [
            "179.125\n"
          ],
          "name": "stdout"
        }
      ]
    },
    {
      "cell_type": "code",
      "metadata": {
        "colab": {
          "base_uri": "https://localhost:8080/"
        },
        "id": "VJqiu9lwgEgG",
        "outputId": "85b5e8cd-6a12-4e79-cc9d-0b14b77e7d24"
      },
      "source": [
        "y2_mean = np.mean(y2)\n",
        "print(y2_mean)"
      ],
      "execution_count": 8,
      "outputs": [
        {
          "output_type": "stream",
          "text": [
            "178.66666666666666\n"
          ],
          "name": "stdout"
        }
      ]
    },
    {
      "cell_type": "code",
      "metadata": {
        "colab": {
          "base_uri": "https://localhost:8080/"
        },
        "id": "b1A-QInSgEjC",
        "outputId": "653f67f8-0739-4548-ec33-b93799900050"
      },
      "source": [
        "y3_mean = np.mean(y3)\n",
        "print(y3_mean)"
      ],
      "execution_count": 9,
      "outputs": [
        {
          "output_type": "stream",
          "text": [
            "172.72727272727272\n"
          ],
          "name": "stdout"
        }
      ]
    },
    {
      "cell_type": "markdown",
      "metadata": {
        "id": "BBnnMt5rjEZo"
      },
      "source": [
        "#### Установим, что это отличие статистически значимо. \n",
        "\n",
        "Для этого сначала соберем все значения роста в один массив:"
      ]
    },
    {
      "cell_type": "code",
      "metadata": {
        "colab": {
          "base_uri": "https://localhost:8080/"
        },
        "id": "3gZ5f4MggEmA",
        "outputId": "102ae537-2bf2-4dc0-a706-e8c5778d2265"
      },
      "source": [
        "y_all = np.concatenate([y1, y2, y3])\n",
        "y_all"
      ],
      "execution_count": 10,
      "outputs": [
        {
          "output_type": "execute_result",
          "data": {
            "text/plain": [
              "array([173., 175., 180., 178., 177., 185., 183., 182., 177., 179., 180.,\n",
              "       188., 177., 172., 171., 184., 180., 172., 173., 169., 177., 166.,\n",
              "       180., 178., 177., 172., 166., 170.])"
            ]
          },
          "metadata": {
            "tags": []
          },
          "execution_count": 10
        }
      ]
    },
    {
      "cell_type": "markdown",
      "metadata": {
        "id": "eTcoCI00jL-S"
      },
      "source": [
        "Найдем среднее значение роста по всем значениям:"
      ]
    },
    {
      "cell_type": "code",
      "metadata": {
        "colab": {
          "base_uri": "https://localhost:8080/"
        },
        "id": "3BxNgJy3gEoS",
        "outputId": "17785b8d-581a-4880-b512-229e174b5a7d"
      },
      "source": [
        "y_mean = np.mean(y_all)\n",
        "print(y_mean)"
      ],
      "execution_count": 11,
      "outputs": [
        {
          "output_type": "stream",
          "text": [
            "176.46428571428572\n"
          ],
          "name": "stdout"
        }
      ]
    },
    {
      "cell_type": "markdown",
      "metadata": {
        "id": "Rax6KkMSjSA3"
      },
      "source": [
        "Найдем $S^2$ — сумму квадратов отклонений наблюдений от общего среднего:"
      ]
    },
    {
      "cell_type": "code",
      "metadata": {
        "colab": {
          "base_uri": "https://localhost:8080/"
        },
        "id": "9WtLmqpDgErm",
        "outputId": "235bad0c-168b-4c0e-f1ed-18bf096071a3"
      },
      "source": [
        "s2 = np.sum((y_all - y_mean)**2)\n",
        "s2"
      ],
      "execution_count": 12,
      "outputs": [
        {
          "output_type": "execute_result",
          "data": {
            "text/plain": [
              "830.9642857142854"
            ]
          },
          "metadata": {
            "tags": []
          },
          "execution_count": 12
        }
      ]
    },
    {
      "cell_type": "markdown",
      "metadata": {
        "id": "VMFWGBiCjYOZ"
      },
      "source": [
        "Найдем $S^2_F$ - сумму квадратов отклонений средних групповых значений от общего среднего:"
      ]
    },
    {
      "cell_type": "code",
      "metadata": {
        "colab": {
          "base_uri": "https://localhost:8080/"
        },
        "id": "ayzNBfC_jTeL",
        "outputId": "0b042584-063c-4fd9-d1e0-dd99eac12240"
      },
      "source": [
        "s2_f = ((y1_mean - y_mean)**2) * n1 + ((y2_mean - y_mean)**2) * n2 + ((y3_mean - y_mean)**2) * n3\n",
        "s2_f"
      ],
      "execution_count": 13,
      "outputs": [
        {
          "output_type": "execute_result",
          "data": {
            "text/plain": [
              "253.9074675324678"
            ]
          },
          "metadata": {
            "tags": []
          },
          "execution_count": 13
        }
      ]
    },
    {
      "cell_type": "markdown",
      "metadata": {
        "id": "dRH2vPXEnoYb"
      },
      "source": [
        "Найдем $S^2_{ост}$ — остаточную сумму квадратов отклонений:"
      ]
    },
    {
      "cell_type": "code",
      "metadata": {
        "colab": {
          "base_uri": "https://localhost:8080/"
        },
        "id": "FglwTuh0jThb",
        "outputId": "edea286d-e517-4b86-bdb5-a011d7ad6bf4"
      },
      "source": [
        "s2_residual = np.sum((y1 - y1_mean)**2) + np.sum((y2 - y2_mean)**2) + np.sum((y3 - y3_mean)**2)\n",
        "s2_residual"
      ],
      "execution_count": 14,
      "outputs": [
        {
          "output_type": "execute_result",
          "data": {
            "text/plain": [
              "577.0568181818182"
            ]
          },
          "metadata": {
            "tags": []
          },
          "execution_count": 14
        }
      ]
    },
    {
      "cell_type": "markdown",
      "metadata": {
        "id": "se-dG0FnpVcM"
      },
      "source": [
        "Удостоверимся, что соблюдается равенство $S^2 = S_F^2 + S_{ост}^2$:"
      ]
    },
    {
      "cell_type": "code",
      "metadata": {
        "colab": {
          "base_uri": "https://localhost:8080/"
        },
        "id": "Hotdqs9SjTj4",
        "outputId": "70c06b65-c8d4-44c3-e479-b1ec7d7e27bc"
      },
      "source": [
        "print(s2)\n",
        "print(s2_f + s2_residual)"
      ],
      "execution_count": 15,
      "outputs": [
        {
          "output_type": "stream",
          "text": [
            "830.9642857142854\n",
            "830.964285714286\n"
          ],
          "name": "stdout"
        }
      ]
    },
    {
      "cell_type": "markdown",
      "metadata": {
        "id": "ln0PS71skDsC"
      },
      "source": [
        "Найдем общую дисперсию:"
      ]
    },
    {
      "cell_type": "code",
      "metadata": {
        "colab": {
          "base_uri": "https://localhost:8080/"
        },
        "id": "AibAuW55jTmt",
        "outputId": "00827d54-76dd-4861-f104-6889d581fd91"
      },
      "source": [
        "sigma2_general = s2 / (n - 1)\n",
        "sigma2_general"
      ],
      "execution_count": 16,
      "outputs": [
        {
          "output_type": "execute_result",
          "data": {
            "text/plain": [
              "30.776455026455015"
            ]
          },
          "metadata": {
            "tags": []
          },
          "execution_count": 16
        }
      ]
    },
    {
      "cell_type": "markdown",
      "metadata": {
        "id": "qaMPdOr7kQPI"
      },
      "source": [
        "Найдем факторную дисперсию:"
      ]
    },
    {
      "cell_type": "code",
      "metadata": {
        "colab": {
          "base_uri": "https://localhost:8080/"
        },
        "id": "-WCYhpdjjTpC",
        "outputId": "14ad1cee-1f54-44b5-aade-cc423edd0fbb"
      },
      "source": [
        "sigma2_f = s2_f / (k - 1)\n",
        "sigma2_f"
      ],
      "execution_count": 17,
      "outputs": [
        {
          "output_type": "execute_result",
          "data": {
            "text/plain": [
              "126.9537337662339"
            ]
          },
          "metadata": {
            "tags": []
          },
          "execution_count": 17
        }
      ]
    },
    {
      "cell_type": "markdown",
      "metadata": {
        "id": "i3tGSePDkTxe"
      },
      "source": [
        "Найдем остаточную дисперсию:"
      ]
    },
    {
      "cell_type": "code",
      "metadata": {
        "colab": {
          "base_uri": "https://localhost:8080/"
        },
        "id": "_9bnhdbVjTrq",
        "outputId": "f8bc765d-963c-4602-b923-eeec8d2dc4c9"
      },
      "source": [
        "sigma2_residual = s2_residual / (n - k)\n",
        "sigma2_residual"
      ],
      "execution_count": 18,
      "outputs": [
        {
          "output_type": "execute_result",
          "data": {
            "text/plain": [
              "23.08227272727273"
            ]
          },
          "metadata": {
            "tags": []
          },
          "execution_count": 18
        }
      ]
    },
    {
      "cell_type": "markdown",
      "metadata": {
        "id": "mbDFGWlOpxLc"
      },
      "source": [
        "Вычислим $F_H$:"
      ]
    },
    {
      "cell_type": "code",
      "metadata": {
        "colab": {
          "base_uri": "https://localhost:8080/"
        },
        "id": "e8DPqEmCjTuL",
        "outputId": "d3a3f1c0-c900-46a5-810a-d5b275a2bbe5"
      },
      "source": [
        "F_h = sigma2_f / sigma2_residual\n",
        "F_h"
      ],
      "execution_count": 19,
      "outputs": [
        {
          "output_type": "execute_result",
          "data": {
            "text/plain": [
              "5.500053450812598"
            ]
          },
          "metadata": {
            "tags": []
          },
          "execution_count": 19
        }
      ]
    },
    {
      "cell_type": "markdown",
      "metadata": {
        "id": "yy4cOIw_p9pI"
      },
      "source": [
        "Найдем значение $F_{крит}$ в таблице критических точек распределения Фишера-Снедекора для заданного уровня значимости $\\alpha = 0.05$ и двух степеней свободы: \n",
        "\n",
        "$df_{межд} = k - 1 = 3 - 1 = 2$ и $df_{внутр} = n - k = 28 - 3 = 25$."
      ]
    },
    {
      "cell_type": "markdown",
      "metadata": {
        "id": "J5xW9JULqPAi"
      },
      "source": [
        "Для данных значений $F_{крит} = 3.38$. \n",
        "\n",
        "Так как $F_H > F_{крит}$, различие средних роста спортсменов в трех группах статистически значимо."
      ]
    },
    {
      "cell_type": "markdown",
      "metadata": {
        "id": "8cM7WH9JsLDy"
      },
      "source": [
        "#### Расчитаем то же самое с помощью библиотеки stats.f_oneway"
      ]
    },
    {
      "cell_type": "code",
      "metadata": {
        "colab": {
          "base_uri": "https://localhost:8080/"
        },
        "id": "zVYHRtdNsIx4",
        "outputId": "2fa88303-1452-41bb-f5de-029775c4d2b0"
      },
      "source": [
        "stats.f_oneway(y1,y2,y3)"
      ],
      "execution_count": 20,
      "outputs": [
        {
          "output_type": "execute_result",
          "data": {
            "text/plain": [
              "F_onewayResult(statistic=5.500053450812596, pvalue=0.010482206918698694)"
            ]
          },
          "metadata": {
            "tags": []
          },
          "execution_count": 20
        }
      ]
    },
    {
      "cell_type": "markdown",
      "metadata": {
        "id": "BM1LE69XrtAI"
      },
      "source": [
        "Вывод: при уровне значимости $\\alpha = 0.05$ профессия влияет на средний рост"
      ]
    }
  ]
}