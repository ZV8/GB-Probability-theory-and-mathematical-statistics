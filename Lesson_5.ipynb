{
  "nbformat": 4,
  "nbformat_minor": 0,
  "metadata": {
    "colab": {
      "name": "Lesson_5.ipynb",
      "provenance": []
    },
    "kernelspec": {
      "name": "python3",
      "display_name": "Python 3"
    },
    "language_info": {
      "name": "python"
    }
  },
  "cells": [
    {
      "cell_type": "markdown",
      "metadata": {
        "id": "duoIIi5HIoQD"
      },
      "source": [
        "### Урок 5. Проверка статистических гипотез. P-значения. Доверительные интервалы. A/B-тестирование\n"
      ]
    },
    {
      "cell_type": "code",
      "metadata": {
        "id": "xpRHHWpoXsLj"
      },
      "source": [
        "import numpy as np"
      ],
      "execution_count": 1,
      "outputs": []
    },
    {
      "cell_type": "markdown",
      "metadata": {
        "id": "0EEJsIoX2dq6"
      },
      "source": [
        "#### 1. Известно, что генеральная совокупность распределена нормально со средним квадратическим отклонением, равным 16. Найти доверительный интервал для оценки математического ожидания с надежностью 0.95, если выборочная средняя M = 80, а объем выборки n = 256."
      ]
    },
    {
      "cell_type": "markdown",
      "metadata": {
        "id": "Mjb3Ln8BIJMD"
      },
      "source": [
        "Для определения граничных точек доверительного интервала, при условии что известно среднеквадратическое отклонение генеральной совокупности данных, используется следующая формула.\n",
        "$$ L = \\overline{X} - Z_{\\alpha/2} \\frac{\\sigma}{\\sqrt{n}} $$\n",
        "$$ U = \\overline{X} + Z_{\\alpha/2} \\frac{\\sigma}{\\sqrt{n}} $$\n",
        "\n",
        "где X – математическое ожидание выборки, α – уровень статистической значимости, Zα/2 – Z-оценка для уровня статистической значимости α/2, σ – среднеквадратическое отклонение генеральной совокупности, n – количество наблюдений в выборке. При этом, σ/√n является стандартной ошибкой.\n",
        "\n",
        "Таким образом, доверительный интервал для уровня статистической значимости α можно записать в виде\n",
        "$$ \\overline{X} \\pm Z_{\\alpha/2} \\frac{\\sigma}{\\sqrt{n}} $$\n",
        "\n",
        "Расчеты:"
      ]
    },
    {
      "cell_type": "code",
      "metadata": {
        "id": "EQg8TG3t3n3I"
      },
      "source": [
        "std = 16\n",
        "X = 80\n",
        "n = 256\n",
        "Z = 1.96"
      ],
      "execution_count": 2,
      "outputs": []
    },
    {
      "cell_type": "code",
      "metadata": {
        "colab": {
          "base_uri": "https://localhost:8080/"
        },
        "id": "LzVq4wwO3n6E",
        "outputId": "add27673-5e87-4648-9a4d-4d9ed00f7e24"
      },
      "source": [
        "L = X - Z * std / n**0.5\n",
        "U = X + Z * std / n**0.5\n",
        "print(f'Ответ: [{L}; {U}]')"
      ],
      "execution_count": 3,
      "outputs": [
        {
          "output_type": "stream",
          "text": [
            "Ответ: [78.04; 81.96]\n"
          ],
          "name": "stdout"
        }
      ]
    },
    {
      "cell_type": "markdown",
      "metadata": {
        "id": "kt3gyoHnQMjQ"
      },
      "source": [
        "#### 2. В результате 10 независимых измерений некоторой величины X, выполненных с одинаковой точностью, получены опытные данные: 6.9, 6.1, 6.2, 6.8, 7.5, 6.3, 6.4, 6.9, 6.7, 6.1 Предполагая, что результаты измерений подчинены нормальному закону распределения вероятностей, оценить истинное значение величины X при помощи доверительного интервала, покрывающего это значение с доверительной вероятностью 0,95."
      ]
    },
    {
      "cell_type": "code",
      "metadata": {
        "id": "vcEQ5lYO3n9W"
      },
      "source": [
        "data = np.array([6.9, 6.1, 6.2, 6.8, 7.5, 6.3, 6.4, 6.9, 6.7, 6.1])\n",
        "n = len(data)\n",
        "t = 2.262\n",
        "std = np.std(data, ddof=1)\n",
        "mu = data.mean()"
      ],
      "execution_count": 4,
      "outputs": []
    },
    {
      "cell_type": "code",
      "metadata": {
        "colab": {
          "base_uri": "https://localhost:8080/"
        },
        "id": "lzCxd9hr3n_i",
        "outputId": "9d6f390c-ec88-4a73-92fd-61955ddba44f"
      },
      "source": [
        "L = mu - t * std / n**0.5\n",
        "U = mu + t * std / n**0.5\n",
        "print(f'Ответ: [{L}; {U}]')"
      ],
      "execution_count": 5,
      "outputs": [
        {
          "output_type": "stream",
          "text": [
            "Ответ: [6.267538255912426; 6.912461744087575]\n"
          ],
          "name": "stdout"
        }
      ]
    },
    {
      "cell_type": "markdown",
      "metadata": {
        "id": "92oaWD4yX5RE"
      },
      "source": [
        "#### 3. Утверждается, что шарики для подшипников, изготовленные автоматическим станком, имеют средний диаметр 17 мм. Используя односторонний критерий с α=0,05, проверить эту гипотезу, если в выборке из n=100 шариков средний диаметр оказался равным 17.5 мм, а дисперсия известна и равна 4 кв.мм."
      ]
    },
    {
      "cell_type": "markdown",
      "metadata": {
        "id": "4d6HQ9gVb-W6"
      },
      "source": [
        "Н0: диаметр = 17 мм, µ =µ0\n",
        "\n",
        "Н1: диаметр = 17,5 мм, µ >µ0\n",
        "\n",
        "Критерий Z–тест применяется для статистической проверки гипотез, основанных на нормальном распределении.\n",
        "$$ Z_H = \\frac{\\overline{X} - \\mu_0}{\\sigma / \\sqrt{n}} $$"
      ]
    },
    {
      "cell_type": "code",
      "metadata": {
        "id": "RVpQ1lAe3oKF"
      },
      "source": [
        "n = 100\n",
        "mu0 = 17\n",
        "mu = 17.5\n",
        "variance = 4\n",
        "std0 = variance**0.5\n",
        "Zt = 1.645"
      ],
      "execution_count": 6,
      "outputs": []
    },
    {
      "cell_type": "code",
      "metadata": {
        "colab": {
          "base_uri": "https://localhost:8080/"
        },
        "id": "edmpmdszdI19",
        "outputId": "46f42f56-8d10-46a3-b8de-af5897da0977"
      },
      "source": [
        "Zr = (mu - mu0) / (std0 / n**0.5)\n",
        "Zr"
      ],
      "execution_count": 7,
      "outputs": [
        {
          "output_type": "execute_result",
          "data": {
            "text/plain": [
              "2.5"
            ]
          },
          "metadata": {
            "tags": []
          },
          "execution_count": 7
        }
      ]
    },
    {
      "cell_type": "markdown",
      "metadata": {
        "id": "RmMNzwH2d7Fk"
      },
      "source": [
        "Ответ: поскольку Z-расчетное больше Z-табличного, то верна альтернативная гипотеза. Утверждение не верное."
      ]
    },
    {
      "cell_type": "markdown",
      "metadata": {
        "id": "dahgUjZEJ5fM"
      },
      "source": [
        "#### 4. Продавец утверждает, что средний вес пачки печенья составляет 200 г. Из партии извлечена выборка из 10 пачек. Вес каждой пачки составляет: 202, 203, 199, 197, 195, 201, 200, 204, 194, 190. Известно, что их веса распределены нормально. Верно ли утверждение продавца, если учитывать, что доверительная вероятность равна 99%?"
      ]
    },
    {
      "cell_type": "markdown",
      "metadata": {
        "id": "UaGf9RN5SZaN"
      },
      "source": [
        "Поскольку не известна сигма генеральной совокупности, будем использовать критерий Стьюдента (t-критерий)."
      ]
    },
    {
      "cell_type": "code",
      "metadata": {
        "id": "Qwt7pUnvKflY"
      },
      "source": [
        "data = np.array([202, 203, 199, 197, 195, 201, 200, 204, 194, 190])"
      ],
      "execution_count": 8,
      "outputs": []
    },
    {
      "cell_type": "code",
      "metadata": {
        "id": "cx20HfsedIiJ"
      },
      "source": [
        "n = len(data)\n",
        "mu0 = 200\n",
        "mu = data.mean()\n",
        "std = np.std(data, ddof=1)\n",
        "tt = 3.24984"
      ],
      "execution_count": 9,
      "outputs": []
    },
    {
      "cell_type": "markdown",
      "metadata": {
        "id": "9cUyKG3LUAFW"
      },
      "source": [
        "Применяем формулу\n",
        "$$ t_H = \\frac{\\overline{X} - \\mu_0}{\\sigma / \\sqrt{n}} $$"
      ]
    },
    {
      "cell_type": "code",
      "metadata": {
        "id": "_GU0CRRK3odk",
        "colab": {
          "base_uri": "https://localhost:8080/"
        },
        "outputId": "da4cf043-1ec5-4dfa-ef9b-3f8a1bc8dbf1"
      },
      "source": [
        "tr = (mu - mu0) / (std / n**0.5)\n",
        "tr"
      ],
      "execution_count": 10,
      "outputs": [
        {
          "output_type": "execute_result",
          "data": {
            "text/plain": [
              "-1.0651074037450896"
            ]
          },
          "metadata": {
            "tags": []
          },
          "execution_count": 10
        }
      ]
    },
    {
      "cell_type": "code",
      "metadata": {
        "colab": {
          "base_uri": "https://localhost:8080/"
        },
        "id": "wOsb2_b0TqCs",
        "outputId": "c5d219b6-0f72-4b05-de6c-f21c1f147707"
      },
      "source": [
        "-tt < tr < tt"
      ],
      "execution_count": 11,
      "outputs": [
        {
          "output_type": "execute_result",
          "data": {
            "text/plain": [
              "True"
            ]
          },
          "metadata": {
            "tags": []
          },
          "execution_count": 11
        }
      ]
    },
    {
      "cell_type": "markdown",
      "metadata": {
        "id": "HOglN_WLSISX"
      },
      "source": [
        "Поскольку t-расчетное находится в диапазоне t-табличного (-3.25 < -1.065 < 3.25), то подтверждается нулевая гипотеза. \n",
        "\n",
        "Утверждение продавца верное."
      ]
    }
  ]
}