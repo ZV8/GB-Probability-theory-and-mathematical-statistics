{
  "nbformat": 4,
  "nbformat_minor": 0,
  "metadata": {
    "colab": {
      "name": "Lesson_1.ipynb",
      "provenance": [],
      "authorship_tag": "ABX9TyOv1LOusDikkPCxm75Y8ffh"
    },
    "kernelspec": {
      "name": "python3",
      "display_name": "Python 3"
    },
    "language_info": {
      "name": "python"
    }
  },
  "cells": [
    {
      "cell_type": "markdown",
      "metadata": {
        "id": "duoIIi5HIoQD"
      },
      "source": [
        "### Урок 1. Случайные события. Условная вероятность. Формула Байеса. Независимые испытания\n"
      ]
    },
    {
      "cell_type": "code",
      "metadata": {
        "id": "vKOEHBpgIUhb"
      },
      "source": [
        "from math import factorial\n",
        "\n",
        "def combinations(n, k):\n",
        "    return int(factorial(n) / (factorial(k) * factorial(n - k)))"
      ],
      "execution_count": 1,
      "outputs": []
    },
    {
      "cell_type": "markdown",
      "metadata": {
        "id": "oXnaOOvdn4O7"
      },
      "source": [
        "#### 1. Из колоды в 52 карты извлекаются случайным образом 4 карты. \n",
        "\n",
        "a) Найти вероятность того, что все карты – крести. "
      ]
    },
    {
      "cell_type": "markdown",
      "metadata": {
        "id": "HHwIZBupORV9"
      },
      "source": [
        "$$P(A) = \\frac{13}{52} \\cdot \\frac{12}{51} \\cdot \\frac{11}{50} \\cdot \\frac{10}{49} = \\frac{17160}{6497400} = \\frac{11}{4165}$$"
      ]
    },
    {
      "cell_type": "code",
      "metadata": {
        "colab": {
          "base_uri": "https://localhost:8080/"
        },
        "id": "pLpvCadLkRhN",
        "outputId": "89045256-826f-43ef-8b34-d11c2cdffdfd"
      },
      "source": [
        "# либо тот же результат через отношение числа сочетаний, благоприятствующих нашему событию к общему числу сочетаний\n",
        "combinations(13, 4) * combinations(39, 0) / combinations(52, 4)"
      ],
      "execution_count": 2,
      "outputs": [
        {
          "output_type": "execute_result",
          "data": {
            "text/plain": [
              "0.0026410564225690276"
            ]
          },
          "metadata": {
            "tags": []
          },
          "execution_count": 2
        }
      ]
    },
    {
      "cell_type": "markdown",
      "metadata": {
        "id": "RtvUWcESPw0K"
      },
      "source": [
        "Ответ: 0,26%"
      ]
    },
    {
      "cell_type": "markdown",
      "metadata": {
        "id": "lMCpH02xQZf3"
      },
      "source": [
        "б) Найти вероятность, что среди 4-х карт окажется хотя бы один туз."
      ]
    },
    {
      "cell_type": "markdown",
      "metadata": {
        "id": "L83fe5gBTmRJ"
      },
      "source": [
        "Сначала рассмотрим ситуацию, когда выбирается один туз из четырех.\n",
        "Число таких сочетаний будет равно:\n"
      ]
    },
    {
      "cell_type": "code",
      "metadata": {
        "colab": {
          "base_uri": "https://localhost:8080/"
        },
        "id": "9Sd75TJ_Tlkf",
        "outputId": "92383007-332a-41dc-8219-2a4a05ff95f2"
      },
      "source": [
        "combinations(4, 1)"
      ],
      "execution_count": 3,
      "outputs": [
        {
          "output_type": "execute_result",
          "data": {
            "text/plain": [
              "4"
            ]
          },
          "metadata": {
            "tags": []
          },
          "execution_count": 3
        }
      ]
    },
    {
      "cell_type": "markdown",
      "metadata": {
        "id": "NNOy0X5YUI2X"
      },
      "source": [
        "Остальные три карты выбираются из 48 карт — тузы не рассматриваются, так как они уже выбраны:"
      ]
    },
    {
      "cell_type": "code",
      "metadata": {
        "colab": {
          "base_uri": "https://localhost:8080/"
        },
        "id": "zpjeOkOTUQIL",
        "outputId": "0b24a991-c69b-4aeb-f10c-188e506036a2"
      },
      "source": [
        "combinations(48, 3)"
      ],
      "execution_count": 4,
      "outputs": [
        {
          "output_type": "execute_result",
          "data": {
            "text/plain": [
              "17296"
            ]
          },
          "metadata": {
            "tags": []
          },
          "execution_count": 4
        }
      ]
    },
    {
      "cell_type": "markdown",
      "metadata": {
        "id": "N7FzzOV1Uo5A"
      },
      "source": [
        "В этом случае будет такое число сочетаний, когда из колоды в  52 карты выбраны четыре, одна из которых — туз:"
      ]
    },
    {
      "cell_type": "code",
      "metadata": {
        "colab": {
          "base_uri": "https://localhost:8080/"
        },
        "id": "2XkeG7BSUwXq",
        "outputId": "fea00cc6-b64c-4762-bd0c-0c5d3904dd04"
      },
      "source": [
        "4 * 17296"
      ],
      "execution_count": 5,
      "outputs": [
        {
          "output_type": "execute_result",
          "data": {
            "text/plain": [
              "69184"
            ]
          },
          "metadata": {
            "tags": []
          },
          "execution_count": 5
        }
      ]
    },
    {
      "cell_type": "markdown",
      "metadata": {
        "id": "_urdLac9VNVS"
      },
      "source": [
        "Теперь проделаем то же самое, если выбираются 2 туза:"
      ]
    },
    {
      "cell_type": "code",
      "metadata": {
        "colab": {
          "base_uri": "https://localhost:8080/"
        },
        "id": "Au6oIgL6ViAt",
        "outputId": "f0e0f0ed-30f6-4cde-e754-ab00b89c5f26"
      },
      "source": [
        "combinations(4, 2)"
      ],
      "execution_count": 6,
      "outputs": [
        {
          "output_type": "execute_result",
          "data": {
            "text/plain": [
              "6"
            ]
          },
          "metadata": {
            "tags": []
          },
          "execution_count": 6
        }
      ]
    },
    {
      "cell_type": "code",
      "metadata": {
        "colab": {
          "base_uri": "https://localhost:8080/"
        },
        "id": "UX2MMgsTV1Bp",
        "outputId": "f616025c-53e0-427d-c355-3a4a13bfbf09"
      },
      "source": [
        "combinations(48, 2)"
      ],
      "execution_count": 7,
      "outputs": [
        {
          "output_type": "execute_result",
          "data": {
            "text/plain": [
              "1128"
            ]
          },
          "metadata": {
            "tags": []
          },
          "execution_count": 7
        }
      ]
    },
    {
      "cell_type": "markdown",
      "metadata": {
        "id": "-XSrnPlcV9gS"
      },
      "source": [
        "число сочетаний, когда из колоды в 52 карты, выбраны четыре, две из которых — туз:"
      ]
    },
    {
      "cell_type": "code",
      "metadata": {
        "colab": {
          "base_uri": "https://localhost:8080/"
        },
        "id": "ERaiQz2yWDoR",
        "outputId": "a1d25977-9207-40bc-ab72-2e996b5ed918"
      },
      "source": [
        "6 * 1128"
      ],
      "execution_count": 8,
      "outputs": [
        {
          "output_type": "execute_result",
          "data": {
            "text/plain": [
              "6768"
            ]
          },
          "metadata": {
            "tags": []
          },
          "execution_count": 8
        }
      ]
    },
    {
      "cell_type": "markdown",
      "metadata": {
        "id": "J-Z1O2udWMGa"
      },
      "source": [
        "Теперь проделаем то же самое, если выбираются 3 туза:"
      ]
    },
    {
      "cell_type": "code",
      "metadata": {
        "colab": {
          "base_uri": "https://localhost:8080/"
        },
        "id": "tfUYmWmTWP0-",
        "outputId": "55ba20a4-1ce0-4140-80d1-1af27d954f50"
      },
      "source": [
        "combinations(4, 3) * combinations(48, 1)"
      ],
      "execution_count": 9,
      "outputs": [
        {
          "output_type": "execute_result",
          "data": {
            "text/plain": [
              "192"
            ]
          },
          "metadata": {
            "tags": []
          },
          "execution_count": 9
        }
      ]
    },
    {
      "cell_type": "markdown",
      "metadata": {
        "id": "wv8ho0O8WcGq"
      },
      "source": [
        "Если выбираются 4 туза:"
      ]
    },
    {
      "cell_type": "code",
      "metadata": {
        "colab": {
          "base_uri": "https://localhost:8080/"
        },
        "id": "Ac0izX8TWfGo",
        "outputId": "052822d4-33c2-4acb-d402-154820b9c4eb"
      },
      "source": [
        "combinations(4, 4) * combinations(48, 0)"
      ],
      "execution_count": 10,
      "outputs": [
        {
          "output_type": "execute_result",
          "data": {
            "text/plain": [
              "1"
            ]
          },
          "metadata": {
            "tags": []
          },
          "execution_count": 10
        }
      ]
    },
    {
      "cell_type": "markdown",
      "metadata": {
        "id": "F71Rq8lpWy3C"
      },
      "source": [
        "Осталось сложить полученные числа сочетаний и мы получим общее количество сочетаний, при которых среди 4 карт из 52 окажется хотя бы один туз:"
      ]
    },
    {
      "cell_type": "code",
      "metadata": {
        "colab": {
          "base_uri": "https://localhost:8080/"
        },
        "id": "gMCGXdzoW0SM",
        "outputId": "6d0e8de3-cdb2-4850-a618-b4cb62a42ac3"
      },
      "source": [
        "69184 + 6768 + 192 + 1"
      ],
      "execution_count": 11,
      "outputs": [
        {
          "output_type": "execute_result",
          "data": {
            "text/plain": [
              "76145"
            ]
          },
          "metadata": {
            "tags": []
          },
          "execution_count": 11
        }
      ]
    },
    {
      "cell_type": "markdown",
      "metadata": {
        "id": "OX40JskVXnH0"
      },
      "source": [
        "Чтобы найти вероятность, сначала находим общее количество исходов (это все возможные сочетания 4 карт из 52):"
      ]
    },
    {
      "cell_type": "code",
      "metadata": {
        "colab": {
          "base_uri": "https://localhost:8080/"
        },
        "id": "O6fnUjsUXz2O",
        "outputId": "f7455cdc-fb83-4e60-b001-39be47298a4d"
      },
      "source": [
        "combinations(52, 4)"
      ],
      "execution_count": 12,
      "outputs": [
        {
          "output_type": "execute_result",
          "data": {
            "text/plain": [
              "270725"
            ]
          },
          "metadata": {
            "tags": []
          },
          "execution_count": 12
        }
      ]
    },
    {
      "cell_type": "markdown",
      "metadata": {
        "id": "8j7lYRH8Yaln"
      },
      "source": [
        "Итого, вероятность, что среди 4-х карт окажется хотя бы один туз:"
      ]
    },
    {
      "cell_type": "code",
      "metadata": {
        "colab": {
          "base_uri": "https://localhost:8080/"
        },
        "id": "OffSgmQ6Ycwb",
        "outputId": "609c2dd8-2720-4054-bf92-25e413bc3b0b"
      },
      "source": [
        "76145 / 270725"
      ],
      "execution_count": 13,
      "outputs": [
        {
          "output_type": "execute_result",
          "data": {
            "text/plain": [
              "0.2812632745405855"
            ]
          },
          "metadata": {
            "tags": []
          },
          "execution_count": 13
        }
      ]
    },
    {
      "cell_type": "markdown",
      "metadata": {
        "id": "zhlRUoHUadCa"
      },
      "source": [
        "Ответ: 28%"
      ]
    },
    {
      "cell_type": "markdown",
      "metadata": {
        "id": "nMBIlF8Tan5Q"
      },
      "source": [
        "#### 2. На входной двери подъезда установлен кодовый замок, содержащий десять кнопок с цифрами от 0 до 9. Код содержит три цифры, которые нужно нажать одновременно. Какова вероятность того, что человек, не знающий код, откроет дверь с первой попытки?"
      ]
    },
    {
      "cell_type": "markdown",
      "metadata": {
        "id": "4jYSdeQTbST3"
      },
      "source": [
        "Найдем общее количество сочетаний одновременного нажатия трех кнопок из десяти:"
      ]
    },
    {
      "cell_type": "code",
      "metadata": {
        "colab": {
          "base_uri": "https://localhost:8080/"
        },
        "id": "ZFQ_hoiAbOR2",
        "outputId": "1a3a2502-92cb-4e6b-b430-00535cc0b87f"
      },
      "source": [
        "combinations(10, 3)"
      ],
      "execution_count": 14,
      "outputs": [
        {
          "output_type": "execute_result",
          "data": {
            "text/plain": [
              "120"
            ]
          },
          "metadata": {
            "tags": []
          },
          "execution_count": 14
        }
      ]
    },
    {
      "cell_type": "markdown",
      "metadata": {
        "id": "QcgoWg9HcHFs"
      },
      "source": [
        "Таким образом, вероятность того, что человек, не знающий код, откроет дверь с первой попытки:"
      ]
    },
    {
      "cell_type": "code",
      "metadata": {
        "colab": {
          "base_uri": "https://localhost:8080/"
        },
        "id": "WrXZmbe5cFTD",
        "outputId": "8fe2a1b0-4cb7-4217-b765-1d7e0a9a83ce"
      },
      "source": [
        "1 / 120"
      ],
      "execution_count": 15,
      "outputs": [
        {
          "output_type": "execute_result",
          "data": {
            "text/plain": [
              "0.008333333333333333"
            ]
          },
          "metadata": {
            "tags": []
          },
          "execution_count": 15
        }
      ]
    },
    {
      "cell_type": "markdown",
      "metadata": {
        "id": "X_fidpj-cPNR"
      },
      "source": [
        "Ответ: 0,8%"
      ]
    },
    {
      "cell_type": "markdown",
      "metadata": {
        "id": "cxJUAftQczO6"
      },
      "source": [
        "#### 3. В ящике имеется 15 деталей, из которых 9 окрашены. Рабочий случайным образом извлекает 3 детали. Какова вероятность того, что все извлеченные детали окрашены?"
      ]
    },
    {
      "cell_type": "code",
      "metadata": {
        "colab": {
          "base_uri": "https://localhost:8080/"
        },
        "id": "lNLsVNorcNk_",
        "outputId": "35cd6a1d-84f3-42e0-b275-0062c9349149"
      },
      "source": [
        "combinations(9, 3) * combinations(12, 0) / combinations(15, 3)"
      ],
      "execution_count": 16,
      "outputs": [
        {
          "output_type": "execute_result",
          "data": {
            "text/plain": [
              "0.18461538461538463"
            ]
          },
          "metadata": {
            "tags": []
          },
          "execution_count": 16
        }
      ]
    },
    {
      "cell_type": "markdown",
      "metadata": {
        "id": "fGfkBlxhophy"
      },
      "source": [
        "Ответ: 18,5%"
      ]
    },
    {
      "cell_type": "markdown",
      "metadata": {
        "id": "9VMU3kwGulW7"
      },
      "source": [
        "#### 4. В лотерее 100 билетов. Из них 2 выигрышных. Какова вероятность того, что 2 приобретенных билета окажутся выигрышными?"
      ]
    },
    {
      "cell_type": "code",
      "metadata": {
        "colab": {
          "base_uri": "https://localhost:8080/"
        },
        "id": "V4qBB9P9onOv",
        "outputId": "e0d556b4-954a-4871-c48c-90f47979532c"
      },
      "source": [
        "combinations(2, 2) * combinations(98, 0) / combinations(100, 2)"
      ],
      "execution_count": 17,
      "outputs": [
        {
          "output_type": "execute_result",
          "data": {
            "text/plain": [
              "0.00020202020202020202"
            ]
          },
          "metadata": {
            "tags": []
          },
          "execution_count": 17
        }
      ]
    },
    {
      "cell_type": "code",
      "metadata": {
        "colab": {
          "base_uri": "https://localhost:8080/"
        },
        "id": "linbQV2Xo_oP",
        "outputId": "198dea78-94a2-42d9-ed1c-49f4a54c7c0c"
      },
      "source": [
        "# или\n",
        "2/100*1/99"
      ],
      "execution_count": 18,
      "outputs": [
        {
          "output_type": "execute_result",
          "data": {
            "text/plain": [
              "0.00020202020202020202"
            ]
          },
          "metadata": {
            "tags": []
          },
          "execution_count": 18
        }
      ]
    },
    {
      "cell_type": "markdown",
      "metadata": {
        "id": "x-ZoA8Xlx0ul"
      },
      "source": [
        "Ответ: 0,02%"
      ]
    },
    {
      "cell_type": "code",
      "metadata": {
        "id": "CGLDNXnJygF3"
      },
      "source": [
        ""
      ],
      "execution_count": null,
      "outputs": []
    }
  ]
}