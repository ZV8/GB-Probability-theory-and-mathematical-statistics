{
  "nbformat": 4,
  "nbformat_minor": 0,
  "metadata": {
    "colab": {
      "name": "Lesson_7.ipynb",
      "provenance": []
    },
    "kernelspec": {
      "name": "python3",
      "display_name": "Python 3"
    },
    "language_info": {
      "name": "python"
    }
  },
  "cells": [
    {
      "cell_type": "markdown",
      "metadata": {
        "id": "duoIIi5HIoQD"
      },
      "source": [
        "### Урок 7. Многомерный статистический анализ. Линейная регрессия\n"
      ]
    },
    {
      "cell_type": "code",
      "metadata": {
        "id": "xpRHHWpoXsLj"
      },
      "source": [
        "import numpy as np\n",
        "import seaborn as sns\n",
        "import matplotlib.pyplot as plt"
      ],
      "execution_count": 1,
      "outputs": []
    },
    {
      "cell_type": "markdown",
      "metadata": {
        "id": "0EEJsIoX2dq6"
      },
      "source": [
        "#### 1. Даны значения величины заработной платы заемщиков банка (zp) и значения их поведенческого кредитного скоринга (ks): \n",
        "zp = [35, 45, 190, 200, 40, 70, 54, 150, 120, 110]\n",
        "\n",
        "ks = [401, 574, 874, 919, 459, 739, 653, 902, 746, 832]\n",
        "\n",
        "#### Используя математические операции, посчитать коэффициенты линейной регрессии, приняв за X заработную плату (то есть, zp - признак), а за y - значения скорингового балла (то есть, ks - целевая переменная). Произвести расчет как с использованием intercept, так и без."
      ]
    },
    {
      "cell_type": "code",
      "metadata": {
        "id": "7UZAa-3pwcM9"
      },
      "source": [
        "X = np.array([35, 45, 190, 200, 40, 70, 54, 150, 120, 110])\n",
        "y = np.array([401, 574, 874, 919, 459, 739, 653, 902, 746, 832])"
      ],
      "execution_count": 2,
      "outputs": []
    },
    {
      "cell_type": "code",
      "metadata": {
        "colab": {
          "base_uri": "https://localhost:8080/",
          "height": 265
        },
        "id": "JbtheIhBp3tX",
        "outputId": "8321171c-8a4f-4b7c-bab2-e6ef4538924b"
      },
      "source": [
        "plt.scatter(X,y)\n",
        "plt.show()"
      ],
      "execution_count": 3,
      "outputs": [
        {
          "output_type": "display_data",
          "data": {
            "image/png": "[encoded data removed]",
            "text/plain": [
              "<Figure size 432x288 with 1 Axes>"
            ]
          },
          "metadata": {
            "tags": [],
            "needs_background": "light"
          }
        }
      ]
    },
    {
      "cell_type": "markdown",
      "metadata": {
        "id": "tRThK7Ynphjg"
      },
      "source": [
        "Считаем, что связь между $x$ и $y$ описывается линейной функцией: $y = a + bx$"
      ]
    },
    {
      "cell_type": "markdown",
      "metadata": {
        "id": "7cj-ZBGwoUj3"
      },
      "source": [
        "#### Коэффициенты уравнения линейной регрессии можно найти следующим образом:"
      ]
    },
    {
      "cell_type": "markdown",
      "metadata": {
        "id": "EKlZUU22o-St"
      },
      "source": [
        "$$b = \\frac{\\overline{yx} - \\overline{y} \\cdot {\\overline{x}}}{\\overline{x^2} - (\\overline{x})^2};$$"
      ]
    },
    {
      "cell_type": "markdown",
      "metadata": {
        "id": "jd8JZkeeoySB"
      },
      "source": [
        "$$a = \\overline{y} - b \\cdot {\\overline{x}}.$$"
      ]
    },
    {
      "cell_type": "code",
      "metadata": {
        "colab": {
          "base_uri": "https://localhost:8080/"
        },
        "id": "aQBX0GRxpbTj",
        "outputId": "3d8f0cf0-5c34-4316-d016-ca2df4a098d7"
      },
      "source": [
        "b = (np.mean(X * y) - np.mean(X) * np.mean(y)) / (np.mean(X**2) - np.mean(X) ** 2)\n",
        "b"
      ],
      "execution_count": 4,
      "outputs": [
        {
          "output_type": "execute_result",
          "data": {
            "text/plain": [
              "2.620538882402765"
            ]
          },
          "metadata": {
            "tags": []
          },
          "execution_count": 4
        }
      ]
    },
    {
      "cell_type": "code",
      "metadata": {
        "colab": {
          "base_uri": "https://localhost:8080/"
        },
        "id": "Qi8lii_hnvWv",
        "outputId": "963e8e48-d9ef-4220-9288-76b84d42458b"
      },
      "source": [
        "a = np.mean(y) - b * np.mean(X)\n",
        "a"
      ],
      "execution_count": 5,
      "outputs": [
        {
          "output_type": "execute_result",
          "data": {
            "text/plain": [
              "444.1773573243596"
            ]
          },
          "metadata": {
            "tags": []
          },
          "execution_count": 5
        }
      ]
    },
    {
      "cell_type": "code",
      "metadata": {
        "id": "70zQKI_O8Q2F"
      },
      "source": [
        "y_pred = a + b * X"
      ],
      "execution_count": 6,
      "outputs": []
    },
    {
      "cell_type": "code",
      "metadata": {
        "colab": {
          "base_uri": "https://localhost:8080/",
          "height": 265
        },
        "id": "xAynwOyPnve-",
        "outputId": "9afa4f93-33bd-4540-fa9b-12f6a2b208bb"
      },
      "source": [
        "plt.scatter(X,y)\n",
        "plt.plot(X,y_pred)\n",
        "plt.show()"
      ],
      "execution_count": 7,
      "outputs": [
        {
          "output_type": "display_data",
          "data": {
            "image/png": "[encoded data removed]",
            "text/plain": [
              "<Figure size 432x288 with 1 Axes>"
            ]
          },
          "metadata": {
            "tags": [],
            "needs_background": "light"
          }
        }
      ]
    },
    {
      "cell_type": "markdown",
      "metadata": {
        "id": "a9Ws8fQ6q3lW"
      },
      "source": [
        "Итак, уравнение регрессии имеет вид: $y = 444.18 + 2.62 \\cdot x$\n",
        "\n",
        "С увеличением заплаты заемщика на 1 единицу значение его поведенческого кредитного скоринга возрастет на 2.62"
      ]
    },
    {
      "cell_type": "markdown",
      "metadata": {
        "id": "2lXrvDSH968g"
      },
      "source": [
        "#### Матричный метод поиска коэффициентов \n",
        "$$y = \\beta_0 + \\beta_1*x$$\n",
        "\n",
        "Представив уравнение в виде матрицы получаем: y = матрица признаков * на матрицу коэффициентов B $$y = X * B$$ "
      ]
    },
    {
      "cell_type": "code",
      "metadata": {
        "colab": {
          "base_uri": "https://localhost:8080/"
        },
        "id": "9X5zY1g1nvh9",
        "outputId": "71d3522e-4520-4436-e794-04428b0975a3"
      },
      "source": [
        "X = X.reshape(len(X),1)\n",
        "X"
      ],
      "execution_count": 8,
      "outputs": [
        {
          "output_type": "execute_result",
          "data": {
            "text/plain": [
              "array([[ 35],\n",
              "       [ 45],\n",
              "       [190],\n",
              "       [200],\n",
              "       [ 40],\n",
              "       [ 70],\n",
              "       [ 54],\n",
              "       [150],\n",
              "       [120],\n",
              "       [110]])"
            ]
          },
          "metadata": {
            "tags": []
          },
          "execution_count": 8
        }
      ]
    },
    {
      "cell_type": "code",
      "metadata": {
        "colab": {
          "base_uri": "https://localhost:8080/"
        },
        "id": "9gotSnntuSlY",
        "outputId": "d85a8cc1-e557-4164-aab6-3fa106d5dfe9"
      },
      "source": [
        "y = y.reshape(len(y),1)\n",
        "y"
      ],
      "execution_count": 9,
      "outputs": [
        {
          "output_type": "execute_result",
          "data": {
            "text/plain": [
              "array([[401],\n",
              "       [574],\n",
              "       [874],\n",
              "       [919],\n",
              "       [459],\n",
              "       [739],\n",
              "       [653],\n",
              "       [902],\n",
              "       [746],\n",
              "       [832]])"
            ]
          },
          "metadata": {
            "tags": []
          },
          "execution_count": 9
        }
      ]
    },
    {
      "cell_type": "markdown",
      "metadata": {
        "id": "0DNzBnBrDqf7"
      },
      "source": [
        "Рачет коэффециента, без использования intercept ($\\beta_0$)"
      ]
    },
    {
      "cell_type": "code",
      "metadata": {
        "colab": {
          "base_uri": "https://localhost:8080/"
        },
        "id": "_R7PaLxnuSoZ",
        "outputId": "8d043f3b-f7c0-4091-9f57-87da70f36a15"
      },
      "source": [
        "B = np.dot(np.linalg.inv(np.dot(X.T,X)), X.T@y)\n",
        "B"
      ],
      "execution_count": 10,
      "outputs": [
        {
          "output_type": "execute_result",
          "data": {
            "text/plain": [
              "array([[5.88982042]])"
            ]
          },
          "metadata": {
            "tags": []
          },
          "execution_count": 10
        }
      ]
    },
    {
      "cell_type": "markdown",
      "metadata": {
        "id": "qCzWrnJsD-l7"
      },
      "source": [
        "Рачет коэффециента, с использованием intercept ($\\beta_0$)\n",
        "\n",
        "в этом случае в матрице признаков появляется столбец с 1"
      ]
    },
    {
      "cell_type": "code",
      "metadata": {
        "colab": {
          "base_uri": "https://localhost:8080/"
        },
        "id": "Crv4wKoHAlcU",
        "outputId": "e0017d68-cc50-4dce-8093-546c24f28743"
      },
      "source": [
        "X = np.hstack([np.ones((len(X),1)), X])\n",
        "X"
      ],
      "execution_count": 11,
      "outputs": [
        {
          "output_type": "execute_result",
          "data": {
            "text/plain": [
              "array([[  1.,  35.],\n",
              "       [  1.,  45.],\n",
              "       [  1., 190.],\n",
              "       [  1., 200.],\n",
              "       [  1.,  40.],\n",
              "       [  1.,  70.],\n",
              "       [  1.,  54.],\n",
              "       [  1., 150.],\n",
              "       [  1., 120.],\n",
              "       [  1., 110.]])"
            ]
          },
          "metadata": {
            "tags": []
          },
          "execution_count": 11
        }
      ]
    },
    {
      "cell_type": "code",
      "metadata": {
        "colab": {
          "base_uri": "https://localhost:8080/"
        },
        "id": "EyV7KbtxBfO0",
        "outputId": "77cc64b3-2bdf-49e0-ea5a-7792e38fdf25"
      },
      "source": [
        "B = np.dot(np.linalg.inv(np.dot(X.T,X)), X.T@y)\n",
        "print('Получили те же значения коэффициентов, что и способом, успользуя уравнение')\n",
        "B"
      ],
      "execution_count": 12,
      "outputs": [
        {
          "output_type": "stream",
          "text": [
            "Получили те же значения коэффициентов, что и способом, успользуя уравнение\n"
          ],
          "name": "stdout"
        },
        {
          "output_type": "execute_result",
          "data": {
            "text/plain": [
              "array([[444.17735732],\n",
              "       [  2.62053888]])"
            ]
          },
          "metadata": {
            "tags": []
          },
          "execution_count": 12
        }
      ]
    },
    {
      "cell_type": "markdown",
      "metadata": {
        "id": "j_wOVOJQHWjr"
      },
      "source": [
        "Ответ: \n",
        "\n",
        "с использованием intercept a = 444.18; b = 2.62\n",
        "\n",
        "без использования intercept b = 5.89"
      ]
    },
    {
      "cell_type": "markdown",
      "metadata": {
        "id": "UAcsYvIcIF5L"
      },
      "source": [
        "#### 2. Посчитать коэффициент линейной регрессии при заработной плате (zp), используя градиентный спуск (без intercept)."
      ]
    },
    {
      "cell_type": "code",
      "metadata": {
        "id": "4SiIWMny6woO"
      },
      "source": [
        "X = np.array([35, 45, 190, 200, 40, 70, 54, 150, 120, 110])\n",
        "y = np.array([401, 574, 874, 919, 459, 739, 653, 902, 746, 832])"
      ],
      "execution_count": 13,
      "outputs": []
    },
    {
      "cell_type": "markdown",
      "metadata": {
        "id": "KYQCHtdxJJJd"
      },
      "source": [
        "Без intercept формула слудующая:\n",
        "$$y = \\beta_1 * X$$"
      ]
    },
    {
      "cell_type": "code",
      "metadata": {
        "id": "2200xCUD6wvk"
      },
      "source": [
        "def mse_(B1,y=y,X=X,n=len(y)):\n",
        "  return np.sum((B1*X-y)**2)/n"
      ],
      "execution_count": 14,
      "outputs": []
    },
    {
      "cell_type": "code",
      "metadata": {
        "colab": {
          "base_uri": "https://localhost:8080/"
        },
        "id": "HhiMZHpZuSsu",
        "outputId": "908e88cd-f0a9-4c63-f0d1-a9409c23acb8"
      },
      "source": [
        "alfa = 1e-6\n",
        "alfa"
      ],
      "execution_count": 15,
      "outputs": [
        {
          "output_type": "execute_result",
          "data": {
            "text/plain": [
              "1e-06"
            ]
          },
          "metadata": {
            "tags": []
          },
          "execution_count": 15
        }
      ]
    },
    {
      "cell_type": "code",
      "metadata": {
        "colab": {
          "base_uri": "https://localhost:8080/"
        },
        "id": "RnbkSmqVuSuf",
        "outputId": "e4414fa2-8978-4271-f28e-53f8c8364122"
      },
      "source": [
        "# mse = (1/n)*np.sum((B1*X-y)**2)\n",
        "# mse_p = (2/n)*np.sum((B1*X-y)*X)  # производная\n",
        "\n",
        "B1 = 0.1 # стартовое значение\n",
        "n = len(y)\n",
        "for i in range(1000):\n",
        "  B1 -= alfa * (2/n)*np.sum((B1*X-y)*X)  # B1 -= alfa * mse_p\n",
        "  if i%50==0:\n",
        "    print(f'Iteration: {i}, B1={B1}, mse={mse_(B1)}')"
      ],
      "execution_count": 16,
      "outputs": [
        {
          "output_type": "stream",
          "text": [
            "Iteration: 0, B1=0.25952808, mse=493237.7212546963\n",
            "Iteration: 50, B1=4.497229618367758, mse=83233.94472982832\n",
            "Iteration: 100, B1=5.54537842245223, mse=58151.31823171113\n",
            "Iteration: 150, B1=5.804626485478126, mse=56616.849068093856\n",
            "Iteration: 200, B1=5.868748638669329, mse=56522.97550129376\n",
            "Iteration: 250, B1=5.884608547059329, mse=56517.232638059555\n",
            "Iteration: 300, B1=5.888531320728348, mse=56516.88130936019\n",
            "Iteration: 350, B1=5.889501575592372, mse=56516.85981627392\n",
            "Iteration: 400, B1=5.8897415574471985, mse=56516.85850140053\n",
            "Iteration: 450, B1=5.889800914315978, mse=56516.858420961085\n",
            "Iteration: 500, B1=5.889815595583751, mse=56516.858416040064\n",
            "Iteration: 550, B1=5.889819226833643, mse=56516.858415739014\n",
            "Iteration: 600, B1=5.889820124983314, mse=56516.85841572062\n",
            "Iteration: 650, B1=5.889820347130743, mse=56516.858415719485\n",
            "Iteration: 700, B1=5.889820402076462, mse=56516.85841571941\n",
            "Iteration: 750, B1=5.889820415666681, mse=56516.8584157194\n",
            "Iteration: 800, B1=5.88982041902807, mse=56516.8584157194\n",
            "Iteration: 850, B1=5.889820419859474, mse=56516.8584157194\n",
            "Iteration: 900, B1=5.889820420065112, mse=56516.85841571941\n",
            "Iteration: 950, B1=5.889820420115975, mse=56516.8584157194\n"
          ],
          "name": "stdout"
        }
      ]
    },
    {
      "cell_type": "markdown",
      "metadata": {
        "id": "ueGa18EsOtr4"
      },
      "source": [
        "Ответ: B1 = 5.89"
      ]
    },
    {
      "cell_type": "markdown",
      "metadata": {
        "id": "wYJB3jNsI_rk"
      },
      "source": [
        "#### *3. Произвести вычисления как в пункте 2 (используя градиентный спуск), но с вычислением intercept. \n",
        "Учесть, что изменение коэффициентов должно производиться на каждом шаге одновременно (то есть изменение одного коэффициента не должно влиять на изменение другого во время одной итерации)."
      ]
    },
    {
      "cell_type": "markdown",
      "metadata": {
        "id": "bYltziihPCzd"
      },
      "source": [
        "С вычислением intercept формула слудующая:\n",
        "$$y = \\beta_0 + \\beta_1 * X$$"
      ]
    },
    {
      "cell_type": "code",
      "metadata": {
        "id": "q1L0nvHtYh-5"
      },
      "source": [
        "X = np.array([35, 45, 190, 200, 40, 70, 54, 150, 120, 110])\n",
        "y = np.array([401, 574, 874, 919, 459, 739, 653, 902, 746, 832])"
      ],
      "execution_count": 17,
      "outputs": []
    },
    {
      "cell_type": "code",
      "metadata": {
        "id": "7cQzkjSBWSUb"
      },
      "source": [
        "def mse2_(B0,B1,y=y,X=X,n=len(y)):\n",
        "  return np.sum((B0+B1*X-y)**2)/n"
      ],
      "execution_count": 18,
      "outputs": []
    },
    {
      "cell_type": "code",
      "metadata": {
        "id": "qGi9h9ByWUUN"
      },
      "source": [
        "alfa = 1e-5\n",
        "B0 = 0.1 # стартовое значение\n",
        "B1 = 0.1 # стартовое значение\n",
        "n = len(y)"
      ],
      "execution_count": 20,
      "outputs": []
    },
    {
      "cell_type": "code",
      "metadata": {
        "colab": {
          "base_uri": "https://localhost:8080/"
        },
        "id": "cMRchhrnuSxX",
        "outputId": "1f4029f4-c2a6-4ec3-fae5-4eef82616349"
      },
      "source": [
        "for i in range(4000000):\n",
        "  B0 -= alfa*(2/n)*np.sum((B0+B1*X-y))\n",
        "  B1 -= alfa*(2/n)*np.sum((B0+B1*X-y)*X)\n",
        "  if i%500000==0:\n",
        "    print(f'Iteration: {i}, B0={B0}, B1={B1}, mse={mse2_(B0,B1)}')"
      ],
      "execution_count": 21,
      "outputs": [
        {
          "output_type": "stream",
          "text": [
            "Iteration: 0, B0=0.1139932, B1=1.6950496217904003, mse=298808.66922912706\n",
            "Iteration: 500000, B0=409.03729808290353, B1=2.8791839426649335, mse=6783.645660253098\n",
            "Iteration: 1000000, B0=441.3964262548758, B1=2.6410076607593775, mse=6472.375938447427\n",
            "Iteration: 1500000, B0=443.9572786511766, B1=2.622158750522415, mse=6470.426487340797\n",
            "Iteration: 2000000, B0=444.15994063146525, B1=2.6206670763125217, mse=6470.414278123679\n",
            "Iteration: 2500000, B0=444.1759789936681, B1=2.6205490274745853, mse=6470.414201658573\n",
            "Iteration: 3000000, B0=444.177248245355, B1=2.620539685268393, mse=6470.414201179681\n",
            "Iteration: 3500000, B0=444.17734869201206, B1=2.620538945940337, mse=6470.41420117668\n"
          ],
          "name": "stdout"
        }
      ]
    },
    {
      "cell_type": "markdown",
      "metadata": {
        "id": "0MUJE_M-b3Mk"
      },
      "source": [
        "Ответ: $y = 444.18 + 2.62 \\cdot x$"
      ]
    }
  ]
}